{
 "cells": [
  {
   "cell_type": "markdown",
   "id": "d0cee049",
   "metadata": {},
   "source": [
    "# Tarea 1"
   ]
  },
  {
   "cell_type": "markdown",
   "id": "e280c762",
   "metadata": {},
   "source": [
    "## Probabilidad"
   ]
  },
  {
   "cell_type": "code",
   "execution_count": 1,
   "id": "19bf38e0",
   "metadata": {},
   "outputs": [],
   "source": [
    "import matplotlib.pyplot as plt\n",
    "from sklearn.datasets import load_iris\n",
    "import numpy as np\n",
    "import pandas as pd"
   ]
  },
  {
   "cell_type": "code",
   "execution_count": 2,
   "id": "187f5376",
   "metadata": {},
   "outputs": [
    {
     "data": {
      "text/html": [
       "<div>\n",
       "<style scoped>\n",
       "    .dataframe tbody tr th:only-of-type {\n",
       "        vertical-align: middle;\n",
       "    }\n",
       "\n",
       "    .dataframe tbody tr th {\n",
       "        vertical-align: top;\n",
       "    }\n",
       "\n",
       "    .dataframe thead th {\n",
       "        text-align: right;\n",
       "    }\n",
       "</style>\n",
       "<table border=\"1\" class=\"dataframe\">\n",
       "  <thead>\n",
       "    <tr style=\"text-align: right;\">\n",
       "      <th></th>\n",
       "      <th>sepal length (cm)</th>\n",
       "      <th>sepal width (cm)</th>\n",
       "      <th>petal length (cm)</th>\n",
       "      <th>petal width (cm)</th>\n",
       "      <th>target</th>\n",
       "    </tr>\n",
       "  </thead>\n",
       "  <tbody>\n",
       "    <tr>\n",
       "      <th>0</th>\n",
       "      <td>5.1</td>\n",
       "      <td>3.5</td>\n",
       "      <td>1.4</td>\n",
       "      <td>0.2</td>\n",
       "      <td>setosa</td>\n",
       "    </tr>\n",
       "    <tr>\n",
       "      <th>1</th>\n",
       "      <td>4.9</td>\n",
       "      <td>3.0</td>\n",
       "      <td>1.4</td>\n",
       "      <td>0.2</td>\n",
       "      <td>setosa</td>\n",
       "    </tr>\n",
       "    <tr>\n",
       "      <th>2</th>\n",
       "      <td>4.7</td>\n",
       "      <td>3.2</td>\n",
       "      <td>1.3</td>\n",
       "      <td>0.2</td>\n",
       "      <td>setosa</td>\n",
       "    </tr>\n",
       "    <tr>\n",
       "      <th>3</th>\n",
       "      <td>4.6</td>\n",
       "      <td>3.1</td>\n",
       "      <td>1.5</td>\n",
       "      <td>0.2</td>\n",
       "      <td>setosa</td>\n",
       "    </tr>\n",
       "    <tr>\n",
       "      <th>4</th>\n",
       "      <td>5.0</td>\n",
       "      <td>3.6</td>\n",
       "      <td>1.4</td>\n",
       "      <td>0.2</td>\n",
       "      <td>setosa</td>\n",
       "    </tr>\n",
       "    <tr>\n",
       "      <th>...</th>\n",
       "      <td>...</td>\n",
       "      <td>...</td>\n",
       "      <td>...</td>\n",
       "      <td>...</td>\n",
       "      <td>...</td>\n",
       "    </tr>\n",
       "    <tr>\n",
       "      <th>145</th>\n",
       "      <td>6.7</td>\n",
       "      <td>3.0</td>\n",
       "      <td>5.2</td>\n",
       "      <td>2.3</td>\n",
       "      <td>virginica</td>\n",
       "    </tr>\n",
       "    <tr>\n",
       "      <th>146</th>\n",
       "      <td>6.3</td>\n",
       "      <td>2.5</td>\n",
       "      <td>5.0</td>\n",
       "      <td>1.9</td>\n",
       "      <td>virginica</td>\n",
       "    </tr>\n",
       "    <tr>\n",
       "      <th>147</th>\n",
       "      <td>6.5</td>\n",
       "      <td>3.0</td>\n",
       "      <td>5.2</td>\n",
       "      <td>2.0</td>\n",
       "      <td>virginica</td>\n",
       "    </tr>\n",
       "    <tr>\n",
       "      <th>148</th>\n",
       "      <td>6.2</td>\n",
       "      <td>3.4</td>\n",
       "      <td>5.4</td>\n",
       "      <td>2.3</td>\n",
       "      <td>virginica</td>\n",
       "    </tr>\n",
       "    <tr>\n",
       "      <th>149</th>\n",
       "      <td>5.9</td>\n",
       "      <td>3.0</td>\n",
       "      <td>5.1</td>\n",
       "      <td>1.8</td>\n",
       "      <td>virginica</td>\n",
       "    </tr>\n",
       "  </tbody>\n",
       "</table>\n",
       "<p>150 rows × 5 columns</p>\n",
       "</div>"
      ],
      "text/plain": [
       "     sepal length (cm)  sepal width (cm)  petal length (cm)  petal width (cm)  \\\n",
       "0                  5.1               3.5                1.4               0.2   \n",
       "1                  4.9               3.0                1.4               0.2   \n",
       "2                  4.7               3.2                1.3               0.2   \n",
       "3                  4.6               3.1                1.5               0.2   \n",
       "4                  5.0               3.6                1.4               0.2   \n",
       "..                 ...               ...                ...               ...   \n",
       "145                6.7               3.0                5.2               2.3   \n",
       "146                6.3               2.5                5.0               1.9   \n",
       "147                6.5               3.0                5.2               2.0   \n",
       "148                6.2               3.4                5.4               2.3   \n",
       "149                5.9               3.0                5.1               1.8   \n",
       "\n",
       "        target  \n",
       "0       setosa  \n",
       "1       setosa  \n",
       "2       setosa  \n",
       "3       setosa  \n",
       "4       setosa  \n",
       "..         ...  \n",
       "145  virginica  \n",
       "146  virginica  \n",
       "147  virginica  \n",
       "148  virginica  \n",
       "149  virginica  \n",
       "\n",
       "[150 rows x 5 columns]"
      ]
     },
     "execution_count": 2,
     "metadata": {},
     "output_type": "execute_result"
    }
   ],
   "source": [
    "# Cargar el set de datos de iris\n",
    "\n",
    "iris = load_iris()\n",
    "df_iris_data = pd.DataFrame(iris['data'], columns=iris['feature_names'])\n",
    "targets = pd.DataFrame(iris['target'], columns=['target'])\n",
    "d_targets = {idx:x for idx, x in enumerate(iris['target_names'])}\n",
    "targets = targets['target'].map(d_targets)\n",
    "df_iris = pd.concat([df_iris_data, targets], axis=1)\n",
    "df_iris\n"
   ]
  },
  {
   "cell_type": "markdown",
   "id": "37acff23",
   "metadata": {},
   "source": [
    "### Hacer uso de Pandas para ver y calcular las siguientes probabilidades en base a toda la población"
   ]
  },
  {
   "cell_type": "code",
   "execution_count": 3,
   "id": "f43b252f",
   "metadata": {},
   "outputs": [
    {
     "data": {
      "text/plain": [
       "0.3333333333333333"
      ]
     },
     "execution_count": 3,
     "metadata": {},
     "output_type": "execute_result"
    }
   ],
   "source": [
    "# Usando los datos, calcular la probabilidad de, tomando una muestra aleatoria, que esta corresponda a la clase Virginica\n",
    "\n",
    "casos_totales = df_iris.shape[0]\n",
    "casos_v = (df_iris[df_iris['target'] == 'virginica']).shape[0]\n",
    "# otra forma\n",
    "# casos_v = df_iris.value_counts('target')['virginica']\n",
    "prob_v = casos_v / casos_totales\n",
    "prob_v"
   ]
  },
  {
   "cell_type": "code",
   "execution_count": 4,
   "id": "de49415c",
   "metadata": {},
   "outputs": [
    {
     "data": {
      "text/plain": [
       "0.7066666666666667"
      ]
     },
     "execution_count": 4,
     "metadata": {},
     "output_type": "execute_result"
    }
   ],
   "source": [
    "# Usando los datos, calcular la probabilidad de que la característica petal_length sea mayor a 1.6\n",
    "\n",
    "casos_pl = (df_iris[df_iris['petal length (cm)'] > 1.6]).shape[0]\n",
    "prov_pl = casos_pl / casos_totales\n",
    "prov_pl\n"
   ]
  },
  {
   "cell_type": "code",
   "execution_count": 5,
   "id": "8e91fcbf",
   "metadata": {},
   "outputs": [
    {
     "data": {
      "text/plain": [
       "1.0"
      ]
     },
     "execution_count": 5,
     "metadata": {},
     "output_type": "execute_result"
    }
   ],
   "source": [
    "# Usando los datos, calcular la probabilidad de que, habiendo salido la clase Virginica, la característica petal_length sea mayor a 1.6\n",
    "\n",
    "# nota propia: investigar uso de crossvalue()\n",
    "df_iris_v = df_iris[df_iris['target'] == 'virginica']\n",
    "casos_pl_en_v = (df_iris_v[df_iris_v['petal length (cm)'] > 1.6]).shape[0]\n",
    "prov_pl_dado_v = casos_pl_en_v / df_iris_v.shape[0]\n",
    "prov_pl_dado_v\n",
    "# prov_pl_dado_v = prob_v, ya que todas las virginicia tienen el petal mayor a 1.6"
   ]
  },
  {
   "cell_type": "code",
   "execution_count": 6,
   "id": "b63c38a7",
   "metadata": {},
   "outputs": [
    {
     "data": {
      "text/plain": [
       "1.0"
      ]
     },
     "execution_count": 6,
     "metadata": {},
     "output_type": "execute_result"
    }
   ],
   "source": [
    "# Usando los datos, calcular la probabilidad de que, habiendo salido la clase Virginica, la característica petal_length sea mayor o igual a 1.6\n",
    "\n",
    "casos_pl_en_v_igual = (df_iris_v[df_iris_v['petal length (cm)'] >= 1.6]).shape[0]\n",
    "prov_pl_igual_dado_v = casos_pl_en_v_igual / df_iris_v.shape[0]\n",
    "prov_pl_igual_dado_v"
   ]
  },
  {
   "cell_type": "code",
   "execution_count": 7,
   "id": "e16f5321",
   "metadata": {},
   "outputs": [
    {
     "data": {
      "text/plain": [
       "[<matplotlib.lines.Line2D at 0x140949bc610>]"
      ]
     },
     "execution_count": 7,
     "metadata": {},
     "output_type": "execute_result"
    },
    {
     "data": {
      "image/png": "[encoded data removed]",
      "text/plain": [
       "<Figure size 2000x500 with 1 Axes>"
      ]
     },
     "metadata": {},
     "output_type": "display_data"
    }
   ],
   "source": [
    "### Dado N, un número entre 1 y 1000, tomar n <=N muestras desde el set de datos anterior, y calcular la media de sepal_length, agregando aditivamente una muestra por vez.\n",
    "### Esto significa que deberá, primero realizar este cálculo con una muestra (n = 1), luego, agregar otra y volver a calcular la media de las dos muestras (N = 2), realizando esta\n",
    "###     acción iterativamente hasta llegar a n = N = 1000\n",
    "### Grafique los cálculos en un gráfico bidimensional,  en dónde en el eje X represente n, y en el eje Y el promedio de ellas.\n",
    "### En el mismo gráfico, represente la media poblacional de todas las muestras (que será constante)\n",
    "df_additive = df_iris.sample(1)\n",
    "mean = []\n",
    "\n",
    "for n in range(1000-1):\n",
    "    df_additive = pd.concat([df_additive, df_iris.sample(1)], axis = 0)\n",
    "    mean.append( float(df_additive['sepal length (cm)'].mean()) )\n",
    "\n",
    "plt.figure(figsize=(20,5))\n",
    "plt.ylim( df_additive['sepal length (cm)'].min(), df_additive['sepal length (cm)'].max() )\n",
    "plt.plot(mean)\n"
   ]
  },
  {
   "cell_type": "markdown",
   "id": "7d436aab",
   "metadata": {},
   "source": [
    "## Estadística "
   ]
  },
  {
   "cell_type": "code",
   "execution_count": 8,
   "id": "c64a3787",
   "metadata": {},
   "outputs": [
    {
     "name": "stdout",
     "output_type": "stream",
     "text": [
      "###### medias ######\n",
      " sepal length (cm)    5.843333\n",
      "sepal width (cm)     3.057333\n",
      "petal length (cm)    3.758000\n",
      "petal width (cm)     1.199333\n",
      "dtype: float64\n",
      "###### varianzas ######\n",
      " sepal length (cm)    0.828066\n",
      "sepal width (cm)     0.435866\n",
      "petal length (cm)    1.765298\n",
      "petal width (cm)     0.762238\n",
      "dtype: float64\n"
     ]
    },
    {
     "name": "stderr",
     "output_type": "stream",
     "text": [
      "C:\\Users\\marcos\\AppData\\Local\\Temp\\ipykernel_4932\\1722066561.py:2: FutureWarning: The default value of numeric_only in DataFrame.mean is deprecated. In a future version, it will default to False. In addition, specifying 'numeric_only=None' is deprecated. Select only valid columns or specify the value of numeric_only to silence this warning.\n",
      "  mean_var = df_iris.mean()\n",
      "C:\\Users\\marcos\\AppData\\Local\\Temp\\ipykernel_4932\\1722066561.py:5: FutureWarning: The default value of numeric_only in DataFrame.std is deprecated. In a future version, it will default to False. In addition, specifying 'numeric_only=None' is deprecated. Select only valid columns or specify the value of numeric_only to silence this warning.\n",
      "  std_var = df_iris.std()\n"
     ]
    }
   ],
   "source": [
    "# Describa el set de datos iris, mostrando el promedio y la varianza de cada parámetro\n",
    "mean_var = df_iris.mean()\n",
    "print(\"###### medias ######\\n\", mean_var )\n",
    "\n",
    "std_var = df_iris.std()\n",
    "print(\"###### varianzas ######\\n\", std_var )"
   ]
  },
  {
   "cell_type": "code",
   "execution_count": 9,
   "id": "87c59d57",
   "metadata": {},
   "outputs": [
    {
     "name": "stdout",
     "output_type": "stream",
     "text": [
      "\n",
      "\n",
      "#######\tClase setosa\n",
      "### medias\n",
      "sepal length (cm)    5.006\n",
      "sepal width (cm)     3.428\n",
      "petal length (cm)    1.462\n",
      "petal width (cm)     0.246\n",
      "dtype: float64\n",
      "### varianzas\n",
      "sepal length (cm)    0.352490\n",
      "sepal width (cm)     0.379064\n",
      "petal length (cm)    0.173664\n",
      "petal width (cm)     0.105386\n",
      "dtype: float64\n",
      "\n",
      "\n",
      "#######\tClase versicolor\n",
      "### medias\n",
      "sepal length (cm)    5.936\n",
      "sepal width (cm)     2.770\n",
      "petal length (cm)    4.260\n",
      "petal width (cm)     1.326\n",
      "dtype: float64\n",
      "### varianzas\n",
      "sepal length (cm)    0.516171\n",
      "sepal width (cm)     0.313798\n",
      "petal length (cm)    0.469911\n",
      "petal width (cm)     0.197753\n",
      "dtype: float64\n",
      "\n",
      "\n",
      "#######\tClase virginica\n",
      "### medias\n",
      "sepal length (cm)    6.588\n",
      "sepal width (cm)     2.974\n",
      "petal length (cm)    5.552\n",
      "petal width (cm)     2.026\n",
      "dtype: float64\n",
      "### varianzas\n",
      "sepal length (cm)    0.635880\n",
      "sepal width (cm)     0.322497\n",
      "petal length (cm)    0.551895\n",
      "petal width (cm)     0.274650\n",
      "dtype: float64\n"
     ]
    },
    {
     "name": "stderr",
     "output_type": "stream",
     "text": [
      "C:\\Users\\marcos\\AppData\\Local\\Temp\\ipykernel_4932\\4090667919.py:6: FutureWarning: The default value of numeric_only in DataFrame.mean is deprecated. In a future version, it will default to False. In addition, specifying 'numeric_only=None' is deprecated. Select only valid columns or specify the value of numeric_only to silence this warning.\n",
      "  print( \"### medias\\n\", df.mean(), \"\\n### varianzas\\n\", df.std(), sep='' )\n",
      "C:\\Users\\marcos\\AppData\\Local\\Temp\\ipykernel_4932\\4090667919.py:6: FutureWarning: The default value of numeric_only in DataFrame.std is deprecated. In a future version, it will default to False. In addition, specifying 'numeric_only=None' is deprecated. Select only valid columns or specify the value of numeric_only to silence this warning.\n",
      "  print( \"### medias\\n\", df.mean(), \"\\n### varianzas\\n\", df.std(), sep='' )\n",
      "C:\\Users\\marcos\\AppData\\Local\\Temp\\ipykernel_4932\\4090667919.py:6: FutureWarning: The default value of numeric_only in DataFrame.mean is deprecated. In a future version, it will default to False. In addition, specifying 'numeric_only=None' is deprecated. Select only valid columns or specify the value of numeric_only to silence this warning.\n",
      "  print( \"### medias\\n\", df.mean(), \"\\n### varianzas\\n\", df.std(), sep='' )\n",
      "C:\\Users\\marcos\\AppData\\Local\\Temp\\ipykernel_4932\\4090667919.py:6: FutureWarning: The default value of numeric_only in DataFrame.std is deprecated. In a future version, it will default to False. In addition, specifying 'numeric_only=None' is deprecated. Select only valid columns or specify the value of numeric_only to silence this warning.\n",
      "  print( \"### medias\\n\", df.mean(), \"\\n### varianzas\\n\", df.std(), sep='' )\n",
      "C:\\Users\\marcos\\AppData\\Local\\Temp\\ipykernel_4932\\4090667919.py:6: FutureWarning: The default value of numeric_only in DataFrame.mean is deprecated. In a future version, it will default to False. In addition, specifying 'numeric_only=None' is deprecated. Select only valid columns or specify the value of numeric_only to silence this warning.\n",
      "  print( \"### medias\\n\", df.mean(), \"\\n### varianzas\\n\", df.std(), sep='' )\n",
      "C:\\Users\\marcos\\AppData\\Local\\Temp\\ipykernel_4932\\4090667919.py:6: FutureWarning: The default value of numeric_only in DataFrame.std is deprecated. In a future version, it will default to False. In addition, specifying 'numeric_only=None' is deprecated. Select only valid columns or specify the value of numeric_only to silence this warning.\n",
      "  print( \"### medias\\n\", df.mean(), \"\\n### varianzas\\n\", df.std(), sep='' )\n"
     ]
    }
   ],
   "source": [
    "# Describa el set de datos iris, mostrando el promedio y la varianza de cada parámetro, de acuerdo a la clase\n",
    "\n",
    "for n in iris['target_names']:\n",
    "    print(\"\\n\\n#######\\tClase\", n)\n",
    "    df = df_iris[df_iris['target'] == n]\n",
    "    print( \"### medias\\n\", df.mean(), \"\\n### varianzas\\n\", df.std(), sep='' )\n"
   ]
  },
  {
   "cell_type": "code",
   "execution_count": 10,
   "id": "9be2a02b",
   "metadata": {},
   "outputs": [
    {
     "data": {
      "image/png": "[encoded data removed]",
      "text/plain": [
       "<Figure size 640x480 with 1 Axes>"
      ]
     },
     "metadata": {},
     "output_type": "display_data"
    }
   ],
   "source": [
    "# Podría discriminar entre las clases 'setosa' y 'versicolor' con el feature 'petal length (cm)'?\n",
    "# Muéstrelo en un histograma\n",
    "\n",
    "# como vemremos, se puede distinguir porque las versicolor son mas largas\n",
    "plt.hist(df_iris[df_iris[\"target\"] == \"setosa\"][\"petal length (cm)\"], label=\"setosa\")\n",
    "plt.hist(df_iris[df_iris[\"target\"] == \"versicolor\"][\"petal length (cm)\"], label=\"versicolor\")\n",
    "plt.xlabel('petal length (cm)')\n",
    "plt.ylabel('cantidad de ejemplares')\n",
    "plt.legend()\n",
    "plt.show()\n"
   ]
  },
  {
   "cell_type": "code",
   "execution_count": 11,
   "id": "28a9ec08",
   "metadata": {},
   "outputs": [
    {
     "data": {
      "image/png": "[encoded data removed]",
      "text/plain": [
       "<Figure size 640x480 with 1 Axes>"
      ]
     },
     "metadata": {},
     "output_type": "display_data"
    }
   ],
   "source": [
    "# Podría discriminar entre las clases 'setosa' y 'versicolor' con el feature 'sepal length (cm)'?\n",
    "# Muéstrelo en un histograma\n",
    "\n",
    "# es complicado, porque si bien la la versicolor suele ser mas larga, se solapan\n",
    "plt.hist(df_iris[df_iris[\"target\"] == \"setosa\"][\"sepal length (cm)\"], label=\"setosa\")\n",
    "plt.hist(df_iris[df_iris[\"target\"] == \"versicolor\"][\"sepal length (cm)\"], label=\"versicolor\")\n",
    "plt.xlabel('sepal length (cm)')\n",
    "plt.ylabel('cantidad de ejemplares')\n",
    "plt.legend()\n",
    "plt.show()"
   ]
  },
  {
   "cell_type": "markdown",
   "id": "e4d67a63",
   "metadata": {},
   "source": [
    "## Reglas de decisión"
   ]
  },
  {
   "cell_type": "code",
   "execution_count": 16,
   "id": "3d23f497",
   "metadata": {},
   "outputs": [
    {
     "data": {
      "text/plain": [
       "1.9829919894405525"
      ]
     },
     "execution_count": 16,
     "metadata": {},
     "output_type": "execute_result"
    }
   ],
   "source": [
    "# Elija un umbral de petal_length que le permita predecir a través de una condición >, o <=,\n",
    "# sólamente a través de ese feature, si es de tipo setosa o no lo es\n",
    "\n",
    "# uso lo viso en clase, valores improbables, alejados a mas del triple de la media\n",
    "umbral = df_iris[df_iris['target'] == 'setosa']['petal length (cm)'].mean() + 3*( df_iris[df_iris['target'] == 'setosa']['petal length (cm)'].std() )\n",
    "umbral\n"
   ]
  },
  {
   "cell_type": "code",
   "execution_count": null,
   "id": "fcc3bea2",
   "metadata": {},
   "outputs": [],
   "source": [
    "# Elija, a través de los datos, un umbral de petal_length que le permita discriminar si es de tipo versicolor o no lo es,\n",
    "# sólamente a través de ese feature. Saque conclusiones\n",
    "valor intermedio entre las dos medias"
   ]
  },
  {
   "cell_type": "code",
   "execution_count": null,
   "id": "f8d8e0f5",
   "metadata": {},
   "outputs": [],
   "source": [
    "# Genere un código que elija, a través de los datos, un umbral de petal_length que le permita discriminar si es de tipo versicolor o no lo es, sólamente a través de ese feature, de forma tal que espere la misma tasa de falsos negativos que de falsos positivos\n",
    "buscar un punto mediante iteraciones, hasta encontrar misma cantidad de casos positivos y negativos\n",
    "o usar funcion que me de el percentil 50"
   ]
  },
  {
   "cell_type": "code",
   "execution_count": null,
   "id": "ab26f3a6",
   "metadata": {},
   "outputs": [],
   "source": [
    "# Genere un código que elija, a través de los datos, un umbral de petal_length que le permita discriminar si es de tipo versicolor o no lo es, sólamente a través de ese feature, de forma tal que espere que la tasa de falsos negativos sea el doble que de falsos positivos"
   ]
  },
  {
   "cell_type": "code",
   "execution_count": null,
   "id": "8eafc2bf",
   "metadata": {},
   "outputs": [],
   "source": [
    "# Genere un código que elija, a través de los datos, dos umbrales de petal_length que le permitan discriminar de que tipo es entre 'setosa', 'versicolor' y 'virginica', de forma tal que espere la misma tasa de falsos positivos que de falsos negativos para versicolor vs setosa y para versicolor vs virginica."
   ]
  }
 ],
 "metadata": {
  "kernelspec": {
   "display_name": "Python 3 (ipykernel)",
   "language": "python",
   "name": "python3"
  },
  "language_info": {
   "codemirror_mode": {
    "name": "ipython",
    "version": 3
   },
   "file_extension": ".py",
   "mimetype": "text/x-python",
   "name": "python",
   "nbconvert_exporter": "python",
   "pygments_lexer": "ipython3",
   "version": "3.11.4"
  }
 },
 "nbformat": 4,
 "nbformat_minor": 5
}
