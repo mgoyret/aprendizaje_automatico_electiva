{
 "cells": [
  {
   "cell_type": "code",
   "execution_count": 3,
   "id": "e44aa2b7",
   "metadata": {
    "_cell_guid": "b1076dfc-b9ad-4769-8c92-a6c4dae69d19",
    "_uuid": "8f2839f25d086af736a60e9eeb907d3b93b6e0e5",
    "execution": {
     "iopub.execute_input": "2023-08-25T00:40:34.570881Z",
     "iopub.status.busy": "2023-08-25T00:40:34.570491Z",
     "iopub.status.idle": "2023-08-25T00:40:34.580553Z",
     "shell.execute_reply": "2023-08-25T00:40:34.579256Z"
    },
    "papermill": {
     "duration": 0.027166,
     "end_time": "2023-08-25T00:40:34.583247",
     "exception": false,
     "start_time": "2023-08-25T00:40:34.556081",
     "status": "completed"
    },
    "tags": []
   },
   "outputs": [],
   "source": [
    "import numpy as np # linear algebra"
   ]
  },
  {
   "cell_type": "markdown",
   "id": "3ff4db77",
   "metadata": {
    "execution": {
     "iopub.execute_input": "2023-08-24T23:41:59.375245Z",
     "iopub.status.busy": "2023-08-24T23:41:59.374788Z",
     "iopub.status.idle": "2023-08-24T23:41:59.411198Z",
     "shell.execute_reply": "2023-08-24T23:41:59.409740Z",
     "shell.execute_reply.started": "2023-08-24T23:41:59.375191Z"
    },
    "papermill": {
     "duration": 0.015056,
     "end_time": "2023-08-25T00:40:34.615341",
     "exception": false,
     "start_time": "2023-08-25T00:40:34.600285",
     "status": "completed"
    },
    "tags": []
   },
   "source": [
    "# Introducción a Numpy\n",
    "\n",
    "Numpy es una libreria de codigo abierto que se usa en casi todos los campos de la ciencia y la ingenieria. Es una libreria que se usa como base, en otras como por ejemplo Pandas, SciPy, Matplotlib, scikit-learn, scikit-image, etc.\n",
    "\n",
    "Introduce entre otras cosas el array n-dimensional, con metodos optimizados para trabajar con estos, y es garantia de calculo eficiente proporcinando un gran numero de funciones de alto nivel para operar con arrays y matrices.\n",
    "\n",
    "### Guia de Introducción a Numpy\n",
    "https://numpy.org/doc/stable/user/absolute_beginners.html\n",
    "#### Guias de Numpy para ciencia de datos\n",
    "https://colab.research.google.com/github/futurelabmx/cdecmx/blob/main/B%20-%20Intro%20a%20NumPy.ipynb\n",
    "\n",
    "https://rafneta.github.io/CienciaDatosPythonCIDE/Laboratorios/Lab8/numpy.html"
   ]
  },
  {
   "cell_type": "markdown",
   "id": "4cee5b4f",
   "metadata": {
    "papermill": {
     "duration": 0.01228,
     "end_time": "2023-08-25T00:40:34.640298",
     "exception": false,
     "start_time": "2023-08-25T00:40:34.628018",
     "status": "completed"
    },
    "tags": []
   },
   "source": [
    "# Inicializar vectores y matrices a partir de listas"
   ]
  },
  {
   "cell_type": "code",
   "execution_count": 4,
   "id": "8006296b",
   "metadata": {
    "execution": {
     "iopub.execute_input": "2023-08-25T00:40:34.675895Z",
     "iopub.status.busy": "2023-08-25T00:40:34.675217Z",
     "iopub.status.idle": "2023-08-25T00:40:34.680180Z",
     "shell.execute_reply": "2023-08-25T00:40:34.679075Z"
    },
    "papermill": {
     "duration": 0.026376,
     "end_time": "2023-08-25T00:40:34.682490",
     "exception": false,
     "start_time": "2023-08-25T00:40:34.656114",
     "status": "completed"
    },
    "tags": []
   },
   "outputs": [],
   "source": [
    "a = np.array([1,2,3,4,5,6])"
   ]
  },
  {
   "cell_type": "code",
   "execution_count": 5,
   "id": "b0fa46ed",
   "metadata": {
    "execution": {
     "iopub.execute_input": "2023-08-25T00:40:34.716046Z",
     "iopub.status.busy": "2023-08-25T00:40:34.715476Z",
     "iopub.status.idle": "2023-08-25T00:40:34.723216Z",
     "shell.execute_reply": "2023-08-25T00:40:34.721753Z"
    },
    "papermill": {
     "duration": 0.027628,
     "end_time": "2023-08-25T00:40:34.725231",
     "exception": false,
     "start_time": "2023-08-25T00:40:34.697603",
     "status": "completed"
    },
    "tags": []
   },
   "outputs": [
    {
     "data": {
      "text/plain": [
       "numpy.ndarray"
      ]
     },
     "execution_count": 5,
     "metadata": {},
     "output_type": "execute_result"
    }
   ],
   "source": [
    "type(a)"
   ]
  },
  {
   "cell_type": "code",
   "execution_count": 6,
   "id": "8f937ea3",
   "metadata": {
    "execution": {
     "iopub.execute_input": "2023-08-25T00:40:34.753466Z",
     "iopub.status.busy": "2023-08-25T00:40:34.752288Z",
     "iopub.status.idle": "2023-08-25T00:40:34.760802Z",
     "shell.execute_reply": "2023-08-25T00:40:34.759195Z"
    },
    "papermill": {
     "duration": 0.025377,
     "end_time": "2023-08-25T00:40:34.763224",
     "exception": false,
     "start_time": "2023-08-25T00:40:34.737847",
     "status": "completed"
    },
    "tags": []
   },
   "outputs": [
    {
     "data": {
      "text/plain": [
       "1"
      ]
     },
     "execution_count": 6,
     "metadata": {},
     "output_type": "execute_result"
    }
   ],
   "source": [
    "a.ndim"
   ]
  },
  {
   "cell_type": "code",
   "execution_count": 7,
   "id": "b6f80dcd",
   "metadata": {
    "execution": {
     "iopub.execute_input": "2023-08-25T00:40:34.796946Z",
     "iopub.status.busy": "2023-08-25T00:40:34.796531Z",
     "iopub.status.idle": "2023-08-25T00:40:34.807342Z",
     "shell.execute_reply": "2023-08-25T00:40:34.806284Z"
    },
    "papermill": {
     "duration": 0.029524,
     "end_time": "2023-08-25T00:40:34.809819",
     "exception": false,
     "start_time": "2023-08-25T00:40:34.780295",
     "status": "completed"
    },
    "tags": []
   },
   "outputs": [
    {
     "data": {
      "text/plain": [
       "(6,)"
      ]
     },
     "execution_count": 7,
     "metadata": {},
     "output_type": "execute_result"
    }
   ],
   "source": [
    "a.shape"
   ]
  },
  {
   "cell_type": "code",
   "execution_count": 8,
   "id": "f0d93e6d",
   "metadata": {
    "execution": {
     "iopub.execute_input": "2023-08-25T00:40:34.843515Z",
     "iopub.status.busy": "2023-08-25T00:40:34.842647Z",
     "iopub.status.idle": "2023-08-25T00:40:34.850256Z",
     "shell.execute_reply": "2023-08-25T00:40:34.849104Z"
    },
    "papermill": {
     "duration": 0.027692,
     "end_time": "2023-08-25T00:40:34.852504",
     "exception": false,
     "start_time": "2023-08-25T00:40:34.824812",
     "status": "completed"
    },
    "tags": []
   },
   "outputs": [
    {
     "data": {
      "text/plain": [
       "6"
      ]
     },
     "execution_count": 8,
     "metadata": {},
     "output_type": "execute_result"
    }
   ],
   "source": [
    "a.size"
   ]
  },
  {
   "cell_type": "code",
   "execution_count": 9,
   "id": "556b45cd",
   "metadata": {
    "execution": {
     "iopub.execute_input": "2023-08-25T00:40:34.885964Z",
     "iopub.status.busy": "2023-08-25T00:40:34.884929Z",
     "iopub.status.idle": "2023-08-25T00:40:34.893910Z",
     "shell.execute_reply": "2023-08-25T00:40:34.892370Z"
    },
    "papermill": {
     "duration": 0.02753,
     "end_time": "2023-08-25T00:40:34.896043",
     "exception": false,
     "start_time": "2023-08-25T00:40:34.868513",
     "status": "completed"
    },
    "tags": []
   },
   "outputs": [
    {
     "name": "stdout",
     "output_type": "stream",
     "text": [
      "[[ 1  2  3  4]\n",
      " [ 5  6  7  8]\n",
      " [ 9 10 11 12]]\n"
     ]
    }
   ],
   "source": [
    "b = np.array([[1,2,3,4],[5,6,7,8],[9,10,11,12]])\n",
    "print(b)"
   ]
  },
  {
   "cell_type": "code",
   "execution_count": 10,
   "id": "f505fa95",
   "metadata": {
    "execution": {
     "iopub.execute_input": "2023-08-25T00:40:34.925985Z",
     "iopub.status.busy": "2023-08-25T00:40:34.924869Z",
     "iopub.status.idle": "2023-08-25T00:40:34.930982Z",
     "shell.execute_reply": "2023-08-25T00:40:34.929365Z"
    },
    "papermill": {
     "duration": 0.022278,
     "end_time": "2023-08-25T00:40:34.933395",
     "exception": false,
     "start_time": "2023-08-25T00:40:34.911117",
     "status": "completed"
    },
    "tags": []
   },
   "outputs": [
    {
     "name": "stdout",
     "output_type": "stream",
     "text": [
      "<class 'numpy.ndarray'>\n"
     ]
    }
   ],
   "source": [
    "print(type(b))"
   ]
  },
  {
   "cell_type": "code",
   "execution_count": 11,
   "id": "18eb97d4",
   "metadata": {
    "execution": {
     "iopub.execute_input": "2023-08-25T00:40:34.961864Z",
     "iopub.status.busy": "2023-08-25T00:40:34.960510Z",
     "iopub.status.idle": "2023-08-25T00:40:34.969130Z",
     "shell.execute_reply": "2023-08-25T00:40:34.967461Z"
    },
    "papermill": {
     "duration": 0.024877,
     "end_time": "2023-08-25T00:40:34.971173",
     "exception": false,
     "start_time": "2023-08-25T00:40:34.946296",
     "status": "completed"
    },
    "tags": []
   },
   "outputs": [
    {
     "data": {
      "text/plain": [
       "2"
      ]
     },
     "execution_count": 11,
     "metadata": {},
     "output_type": "execute_result"
    }
   ],
   "source": [
    "b.ndim"
   ]
  },
  {
   "cell_type": "code",
   "execution_count": 12,
   "id": "b7e59189",
   "metadata": {
    "execution": {
     "iopub.execute_input": "2023-08-25T00:40:34.999034Z",
     "iopub.status.busy": "2023-08-25T00:40:34.998639Z",
     "iopub.status.idle": "2023-08-25T00:40:35.004293Z",
     "shell.execute_reply": "2023-08-25T00:40:35.003347Z"
    },
    "papermill": {
     "duration": 0.022633,
     "end_time": "2023-08-25T00:40:35.007104",
     "exception": false,
     "start_time": "2023-08-25T00:40:34.984471",
     "status": "completed"
    },
    "tags": []
   },
   "outputs": [
    {
     "data": {
      "text/plain": [
       "(3, 4)"
      ]
     },
     "execution_count": 12,
     "metadata": {},
     "output_type": "execute_result"
    }
   ],
   "source": [
    "b.shape"
   ]
  },
  {
   "cell_type": "code",
   "execution_count": 13,
   "id": "b0bd8471",
   "metadata": {
    "execution": {
     "iopub.execute_input": "2023-08-25T00:40:35.042524Z",
     "iopub.status.busy": "2023-08-25T00:40:35.041893Z",
     "iopub.status.idle": "2023-08-25T00:40:35.049145Z",
     "shell.execute_reply": "2023-08-25T00:40:35.047875Z"
    },
    "papermill": {
     "duration": 0.026242,
     "end_time": "2023-08-25T00:40:35.051342",
     "exception": false,
     "start_time": "2023-08-25T00:40:35.025100",
     "status": "completed"
    },
    "tags": []
   },
   "outputs": [
    {
     "data": {
      "text/plain": [
       "array([0., 0., 0., 0., 0.])"
      ]
     },
     "execution_count": 13,
     "metadata": {},
     "output_type": "execute_result"
    }
   ],
   "source": [
    "np.zeros(5)"
   ]
  },
  {
   "cell_type": "code",
   "execution_count": 14,
   "id": "41481c19",
   "metadata": {
    "execution": {
     "iopub.execute_input": "2023-08-25T00:40:35.084862Z",
     "iopub.status.busy": "2023-08-25T00:40:35.084487Z",
     "iopub.status.idle": "2023-08-25T00:40:35.090537Z",
     "shell.execute_reply": "2023-08-25T00:40:35.089741Z"
    },
    "papermill": {
     "duration": 0.024866,
     "end_time": "2023-08-25T00:40:35.092371",
     "exception": false,
     "start_time": "2023-08-25T00:40:35.067505",
     "status": "completed"
    },
    "tags": []
   },
   "outputs": [
    {
     "data": {
      "text/plain": [
       "array([1., 1., 1., 1., 1., 1.])"
      ]
     },
     "execution_count": 14,
     "metadata": {},
     "output_type": "execute_result"
    }
   ],
   "source": [
    "np.ones(6)"
   ]
  },
  {
   "cell_type": "code",
   "execution_count": 15,
   "id": "11147509",
   "metadata": {
    "execution": {
     "iopub.execute_input": "2023-08-25T00:40:35.119910Z",
     "iopub.status.busy": "2023-08-25T00:40:35.119509Z",
     "iopub.status.idle": "2023-08-25T00:40:35.127261Z",
     "shell.execute_reply": "2023-08-25T00:40:35.126084Z"
    },
    "papermill": {
     "duration": 0.024558,
     "end_time": "2023-08-25T00:40:35.129935",
     "exception": false,
     "start_time": "2023-08-25T00:40:35.105377",
     "status": "completed"
    },
    "tags": []
   },
   "outputs": [
    {
     "data": {
      "text/plain": [
       "array([[1., 1., 1.],\n",
       "       [1., 1., 1.],\n",
       "       [1., 1., 1.]])"
      ]
     },
     "execution_count": 15,
     "metadata": {},
     "output_type": "execute_result"
    }
   ],
   "source": [
    "np.ones((3,3))"
   ]
  },
  {
   "cell_type": "code",
   "execution_count": 16,
   "id": "88be696e",
   "metadata": {
    "execution": {
     "iopub.execute_input": "2023-08-25T00:40:35.158474Z",
     "iopub.status.busy": "2023-08-25T00:40:35.158126Z",
     "iopub.status.idle": "2023-08-25T00:40:35.165998Z",
     "shell.execute_reply": "2023-08-25T00:40:35.164745Z"
    },
    "papermill": {
     "duration": 0.024481,
     "end_time": "2023-08-25T00:40:35.168017",
     "exception": false,
     "start_time": "2023-08-25T00:40:35.143536",
     "status": "completed"
    },
    "tags": []
   },
   "outputs": [
    {
     "data": {
      "text/plain": [
       "array([[1., 0., 0., 0.],\n",
       "       [0., 1., 0., 0.],\n",
       "       [0., 0., 1., 0.],\n",
       "       [0., 0., 0., 1.]])"
      ]
     },
     "execution_count": 16,
     "metadata": {},
     "output_type": "execute_result"
    }
   ],
   "source": [
    "np.identity(4)"
   ]
  },
  {
   "cell_type": "code",
   "execution_count": 17,
   "id": "f5f3c541",
   "metadata": {
    "execution": {
     "iopub.execute_input": "2023-08-25T00:40:35.196103Z",
     "iopub.status.busy": "2023-08-25T00:40:35.195763Z",
     "iopub.status.idle": "2023-08-25T00:40:35.203163Z",
     "shell.execute_reply": "2023-08-25T00:40:35.201763Z"
    },
    "papermill": {
     "duration": 0.023529,
     "end_time": "2023-08-25T00:40:35.204926",
     "exception": false,
     "start_time": "2023-08-25T00:40:35.181397",
     "status": "completed"
    },
    "tags": []
   },
   "outputs": [
    {
     "data": {
      "text/plain": [
       "array([[1., 0., 0., 0.],\n",
       "       [0., 1., 0., 0.],\n",
       "       [0., 0., 1., 0.],\n",
       "       [0., 0., 0., 1.]])"
      ]
     },
     "execution_count": 17,
     "metadata": {},
     "output_type": "execute_result"
    }
   ],
   "source": [
    "np.eye(4)"
   ]
  },
  {
   "cell_type": "code",
   "execution_count": 18,
   "id": "171f6479",
   "metadata": {
    "execution": {
     "iopub.execute_input": "2023-08-25T00:40:35.234157Z",
     "iopub.status.busy": "2023-08-25T00:40:35.233810Z",
     "iopub.status.idle": "2023-08-25T00:40:35.240965Z",
     "shell.execute_reply": "2023-08-25T00:40:35.239974Z"
    },
    "papermill": {
     "duration": 0.023744,
     "end_time": "2023-08-25T00:40:35.242642",
     "exception": false,
     "start_time": "2023-08-25T00:40:35.218898",
     "status": "completed"
    },
    "tags": []
   },
   "outputs": [
    {
     "data": {
      "text/plain": [
       "array([0., 1., 2., 3., 4., 5., 6., 7., 8., 9.])"
      ]
     },
     "execution_count": 18,
     "metadata": {},
     "output_type": "execute_result"
    }
   ],
   "source": [
    "x = np.linspace(0,9,10)\n",
    "x"
   ]
  },
  {
   "cell_type": "code",
   "execution_count": 19,
   "id": "040296aa",
   "metadata": {
    "execution": {
     "iopub.execute_input": "2023-08-25T00:40:35.272868Z",
     "iopub.status.busy": "2023-08-25T00:40:35.272397Z",
     "iopub.status.idle": "2023-08-25T00:40:35.280359Z",
     "shell.execute_reply": "2023-08-25T00:40:35.279214Z"
    },
    "papermill": {
     "duration": 0.025523,
     "end_time": "2023-08-25T00:40:35.282162",
     "exception": false,
     "start_time": "2023-08-25T00:40:35.256639",
     "status": "completed"
    },
    "tags": []
   },
   "outputs": [
    {
     "data": {
      "text/plain": [
       "array([0, 1, 2, 3, 4, 5, 6, 7, 8, 9])"
      ]
     },
     "execution_count": 19,
     "metadata": {},
     "output_type": "execute_result"
    }
   ],
   "source": [
    "y = np.arange(0,10,1)\n",
    "y"
   ]
  },
  {
   "cell_type": "code",
   "execution_count": 20,
   "id": "68cf3d55",
   "metadata": {
    "execution": {
     "iopub.execute_input": "2023-08-25T00:40:35.310825Z",
     "iopub.status.busy": "2023-08-25T00:40:35.310448Z",
     "iopub.status.idle": "2023-08-25T00:40:35.317312Z",
     "shell.execute_reply": "2023-08-25T00:40:35.316127Z"
    },
    "papermill": {
     "duration": 0.023261,
     "end_time": "2023-08-25T00:40:35.319034",
     "exception": false,
     "start_time": "2023-08-25T00:40:35.295773",
     "status": "completed"
    },
    "tags": []
   },
   "outputs": [
    {
     "data": {
      "text/plain": [
       "numpy.int32"
      ]
     },
     "execution_count": 20,
     "metadata": {},
     "output_type": "execute_result"
    }
   ],
   "source": [
    "type(y[0])"
   ]
  },
  {
   "cell_type": "markdown",
   "id": "73b82173",
   "metadata": {
    "papermill": {
     "duration": 0.013729,
     "end_time": "2023-08-25T00:40:35.346658",
     "exception": false,
     "start_time": "2023-08-25T00:40:35.332929",
     "status": "completed"
    },
    "tags": []
   },
   "source": [
    "# Broadcasting"
   ]
  },
  {
   "cell_type": "code",
   "execution_count": 21,
   "id": "f4943c90",
   "metadata": {
    "execution": {
     "iopub.execute_input": "2023-08-25T00:40:35.376295Z",
     "iopub.status.busy": "2023-08-25T00:40:35.375885Z",
     "iopub.status.idle": "2023-08-25T00:40:35.383348Z",
     "shell.execute_reply": "2023-08-25T00:40:35.382174Z"
    },
    "papermill": {
     "duration": 0.025276,
     "end_time": "2023-08-25T00:40:35.385856",
     "exception": false,
     "start_time": "2023-08-25T00:40:35.360580",
     "status": "completed"
    },
    "tags": []
   },
   "outputs": [
    {
     "data": {
      "text/plain": [
       "array([1., 1., 1., 1., 1., 1., 1., 1., 1., 1., 1.])"
      ]
     },
     "execution_count": 21,
     "metadata": {},
     "output_type": "execute_result"
    }
   ],
   "source": [
    "ones = np.ones(11)\n",
    "ones"
   ]
  },
  {
   "cell_type": "code",
   "execution_count": 22,
   "id": "36ce8959",
   "metadata": {
    "execution": {
     "iopub.execute_input": "2023-08-25T00:40:35.414873Z",
     "iopub.status.busy": "2023-08-25T00:40:35.414511Z",
     "iopub.status.idle": "2023-08-25T00:40:35.421439Z",
     "shell.execute_reply": "2023-08-25T00:40:35.419950Z"
    },
    "papermill": {
     "duration": 0.023404,
     "end_time": "2023-08-25T00:40:35.423247",
     "exception": false,
     "start_time": "2023-08-25T00:40:35.399843",
     "status": "completed"
    },
    "tags": []
   },
   "outputs": [
    {
     "data": {
      "text/plain": [
       "array([3., 3., 3., 3., 3., 3., 3., 3., 3., 3., 3.])"
      ]
     },
     "execution_count": 22,
     "metadata": {},
     "output_type": "execute_result"
    }
   ],
   "source": [
    "ones + 2"
   ]
  },
  {
   "cell_type": "code",
   "execution_count": 23,
   "id": "93209681",
   "metadata": {
    "execution": {
     "iopub.execute_input": "2023-08-25T00:40:35.452621Z",
     "iopub.status.busy": "2023-08-25T00:40:35.452233Z",
     "iopub.status.idle": "2023-08-25T00:40:35.459198Z",
     "shell.execute_reply": "2023-08-25T00:40:35.457462Z"
    },
    "papermill": {
     "duration": 0.024245,
     "end_time": "2023-08-25T00:40:35.461291",
     "exception": false,
     "start_time": "2023-08-25T00:40:35.437046",
     "status": "completed"
    },
    "tags": []
   },
   "outputs": [
    {
     "data": {
      "text/plain": [
       "array([2., 2., 2., 2., 2., 2., 2., 2., 2., 2., 2.])"
      ]
     },
     "execution_count": 23,
     "metadata": {},
     "output_type": "execute_result"
    }
   ],
   "source": [
    "ones * 2"
   ]
  },
  {
   "cell_type": "code",
   "execution_count": 24,
   "id": "87ead916",
   "metadata": {
    "execution": {
     "iopub.execute_input": "2023-08-25T00:40:35.490203Z",
     "iopub.status.busy": "2023-08-25T00:40:35.489867Z",
     "iopub.status.idle": "2023-08-25T00:40:35.496249Z",
     "shell.execute_reply": "2023-08-25T00:40:35.495037Z"
    },
    "papermill": {
     "duration": 0.022743,
     "end_time": "2023-08-25T00:40:35.497948",
     "exception": false,
     "start_time": "2023-08-25T00:40:35.475205",
     "status": "completed"
    },
    "tags": []
   },
   "outputs": [
    {
     "data": {
      "text/plain": [
       "array([0.5, 0.5, 0.5, 0.5, 0.5, 0.5, 0.5, 0.5, 0.5, 0.5, 0.5])"
      ]
     },
     "execution_count": 24,
     "metadata": {},
     "output_type": "execute_result"
    }
   ],
   "source": [
    "ones / 2"
   ]
  },
  {
   "cell_type": "code",
   "execution_count": 25,
   "id": "859ad585",
   "metadata": {
    "execution": {
     "iopub.execute_input": "2023-08-25T00:40:35.527461Z",
     "iopub.status.busy": "2023-08-25T00:40:35.526546Z",
     "iopub.status.idle": "2023-08-25T00:40:35.535086Z",
     "shell.execute_reply": "2023-08-25T00:40:35.534206Z"
    },
    "papermill": {
     "duration": 0.02501,
     "end_time": "2023-08-25T00:40:35.536756",
     "exception": false,
     "start_time": "2023-08-25T00:40:35.511746",
     "status": "completed"
    },
    "tags": []
   },
   "outputs": [
    {
     "data": {
      "text/plain": [
       "array([[ 2,  3,  4,  5],\n",
       "       [ 6,  7,  8,  9],\n",
       "       [10, 11, 12, 13]])"
      ]
     },
     "execution_count": 25,
     "metadata": {},
     "output_type": "execute_result"
    }
   ],
   "source": [
    "b+1"
   ]
  },
  {
   "cell_type": "markdown",
   "id": "981c66fe",
   "metadata": {
    "papermill": {
     "duration": 0.01347,
     "end_time": "2023-08-25T00:40:35.563994",
     "exception": false,
     "start_time": "2023-08-25T00:40:35.550524",
     "status": "completed"
    },
    "tags": []
   },
   "source": [
    "# Traspuesta y aplanado"
   ]
  },
  {
   "cell_type": "code",
   "execution_count": 26,
   "id": "62402695",
   "metadata": {
    "execution": {
     "iopub.execute_input": "2023-08-25T00:40:35.594086Z",
     "iopub.status.busy": "2023-08-25T00:40:35.593063Z",
     "iopub.status.idle": "2023-08-25T00:40:35.599024Z",
     "shell.execute_reply": "2023-08-25T00:40:35.598184Z"
    },
    "papermill": {
     "duration": 0.022747,
     "end_time": "2023-08-25T00:40:35.600712",
     "exception": false,
     "start_time": "2023-08-25T00:40:35.577965",
     "status": "completed"
    },
    "tags": []
   },
   "outputs": [
    {
     "data": {
      "text/plain": [
       "array([[ 1,  5,  9],\n",
       "       [ 2,  6, 10],\n",
       "       [ 3,  7, 11],\n",
       "       [ 4,  8, 12]])"
      ]
     },
     "execution_count": 26,
     "metadata": {},
     "output_type": "execute_result"
    }
   ],
   "source": [
    "b.T"
   ]
  },
  {
   "cell_type": "code",
   "execution_count": 27,
   "id": "eb0340ef",
   "metadata": {
    "execution": {
     "iopub.execute_input": "2023-08-25T00:40:35.631372Z",
     "iopub.status.busy": "2023-08-25T00:40:35.631017Z",
     "iopub.status.idle": "2023-08-25T00:40:35.636676Z",
     "shell.execute_reply": "2023-08-25T00:40:35.635854Z"
    },
    "papermill": {
     "duration": 0.02308,
     "end_time": "2023-08-25T00:40:35.638367",
     "exception": false,
     "start_time": "2023-08-25T00:40:35.615287",
     "status": "completed"
    },
    "tags": []
   },
   "outputs": [
    {
     "data": {
      "text/plain": [
       "array([ 1,  2,  3,  4,  5,  6,  7,  8,  9, 10, 11, 12])"
      ]
     },
     "execution_count": 27,
     "metadata": {},
     "output_type": "execute_result"
    }
   ],
   "source": [
    "b.flatten()"
   ]
  },
  {
   "cell_type": "code",
   "execution_count": 28,
   "id": "b62cd0f4",
   "metadata": {
    "execution": {
     "iopub.execute_input": "2023-08-25T00:40:35.670018Z",
     "iopub.status.busy": "2023-08-25T00:40:35.669455Z",
     "iopub.status.idle": "2023-08-25T00:40:35.677032Z",
     "shell.execute_reply": "2023-08-25T00:40:35.675536Z"
    },
    "papermill": {
     "duration": 0.025975,
     "end_time": "2023-08-25T00:40:35.679112",
     "exception": false,
     "start_time": "2023-08-25T00:40:35.653137",
     "status": "completed"
    },
    "tags": []
   },
   "outputs": [
    {
     "data": {
      "text/plain": [
       "1"
      ]
     },
     "execution_count": 28,
     "metadata": {},
     "output_type": "execute_result"
    }
   ],
   "source": [
    "b.flatten().ndim"
   ]
  },
  {
   "cell_type": "markdown",
   "id": "092ff9fa",
   "metadata": {
    "papermill": {
     "duration": 0.014058,
     "end_time": "2023-08-25T00:40:35.709304",
     "exception": false,
     "start_time": "2023-08-25T00:40:35.695246",
     "status": "completed"
    },
    "tags": []
   },
   "source": [
    "# Vectorizacion de loops\n",
    "## Multiplicacion elemento a elemento"
   ]
  },
  {
   "cell_type": "code",
   "execution_count": 29,
   "id": "44c6fafe",
   "metadata": {
    "execution": {
     "iopub.execute_input": "2023-08-25T00:40:35.738943Z",
     "iopub.status.busy": "2023-08-25T00:40:35.738554Z",
     "iopub.status.idle": "2023-08-25T00:40:35.743381Z",
     "shell.execute_reply": "2023-08-25T00:40:35.742613Z"
    },
    "papermill": {
     "duration": 0.021768,
     "end_time": "2023-08-25T00:40:35.745089",
     "exception": false,
     "start_time": "2023-08-25T00:40:35.723321",
     "status": "completed"
    },
    "tags": []
   },
   "outputs": [],
   "source": [
    "v = np.array([1,2,3],dtype=float)\n",
    "w = np.array([2,4,8],dtype=float)\n",
    "u = np.zeros(3)"
   ]
  },
  {
   "cell_type": "code",
   "execution_count": 30,
   "id": "ef70ae5c",
   "metadata": {
    "execution": {
     "iopub.execute_input": "2023-08-25T00:40:35.776108Z",
     "iopub.status.busy": "2023-08-25T00:40:35.775736Z",
     "iopub.status.idle": "2023-08-25T00:40:35.783679Z",
     "shell.execute_reply": "2023-08-25T00:40:35.782181Z"
    },
    "papermill": {
     "duration": 0.026641,
     "end_time": "2023-08-25T00:40:35.786308",
     "exception": false,
     "start_time": "2023-08-25T00:40:35.759667",
     "status": "completed"
    },
    "tags": []
   },
   "outputs": [
    {
     "data": {
      "text/plain": [
       "array([ 4.,  8., 14.])"
      ]
     },
     "execution_count": 30,
     "metadata": {},
     "output_type": "execute_result"
    }
   ],
   "source": [
    "for i in range(3):\n",
    "    u[i] = 2 * v[i] + w[i]\n",
    "u"
   ]
  },
  {
   "cell_type": "markdown",
   "id": "7e2248bb",
   "metadata": {},
   "source": [
    "Pero podemos hacer elemento a elemento implicito:"
   ]
  },
  {
   "cell_type": "code",
   "execution_count": 31,
   "id": "6e595169",
   "metadata": {
    "execution": {
     "iopub.execute_input": "2023-08-25T00:40:35.819751Z",
     "iopub.status.busy": "2023-08-25T00:40:35.819332Z",
     "iopub.status.idle": "2023-08-25T00:40:35.826636Z",
     "shell.execute_reply": "2023-08-25T00:40:35.825471Z"
    },
    "papermill": {
     "duration": 0.026829,
     "end_time": "2023-08-25T00:40:35.829274",
     "exception": false,
     "start_time": "2023-08-25T00:40:35.802445",
     "status": "completed"
    },
    "tags": []
   },
   "outputs": [
    {
     "data": {
      "text/plain": [
       "array([ 4.,  8., 14.])"
      ]
     },
     "execution_count": 31,
     "metadata": {},
     "output_type": "execute_result"
    }
   ],
   "source": [
    "u = 2*v + w\n",
    "u"
   ]
  },
  {
   "cell_type": "code",
   "execution_count": 32,
   "id": "11a4face",
   "metadata": {
    "execution": {
     "iopub.execute_input": "2023-08-25T00:40:35.862175Z",
     "iopub.status.busy": "2023-08-25T00:40:35.861850Z",
     "iopub.status.idle": "2023-08-25T00:40:35.867913Z",
     "shell.execute_reply": "2023-08-25T00:40:35.866680Z"
    },
    "papermill": {
     "duration": 0.024877,
     "end_time": "2023-08-25T00:40:35.869806",
     "exception": false,
     "start_time": "2023-08-25T00:40:35.844929",
     "status": "completed"
    },
    "tags": []
   },
   "outputs": [],
   "source": [
    "m = np.array(np.mat('1 2 3; 4 5 6;7 8 9'),dtype=float)\n",
    "w = np.array([2,4,8],dtype=float)\n",
    "r = np.zeros(3)"
   ]
  },
  {
   "cell_type": "code",
   "execution_count": 61,
   "id": "88aa4253",
   "metadata": {
    "execution": {
     "iopub.execute_input": "2023-08-25T00:40:35.902724Z",
     "iopub.status.busy": "2023-08-25T00:40:35.902350Z",
     "iopub.status.idle": "2023-08-25T00:40:35.907321Z",
     "shell.execute_reply": "2023-08-25T00:40:35.905915Z"
    },
    "papermill": {
     "duration": 0.024584,
     "end_time": "2023-08-25T00:40:35.909603",
     "exception": false,
     "start_time": "2023-08-25T00:40:35.885019",
     "status": "completed"
    },
    "tags": []
   },
   "outputs": [],
   "source": [
    "# si no se cumple, imprime el mensaje\n",
    "assert w.size == m.shape[1], \"Tamaños que no coinciden (n,k),(k,m)->(n,m)\" "
   ]
  },
  {
   "cell_type": "code",
   "execution_count": 62,
   "id": "b4387107",
   "metadata": {
    "execution": {
     "iopub.execute_input": "2023-08-25T00:40:35.943044Z",
     "iopub.status.busy": "2023-08-25T00:40:35.942676Z",
     "iopub.status.idle": "2023-08-25T00:40:35.950551Z",
     "shell.execute_reply": "2023-08-25T00:40:35.949254Z"
    },
    "papermill": {
     "duration": 0.02718,
     "end_time": "2023-08-25T00:40:35.952543",
     "exception": false,
     "start_time": "2023-08-25T00:40:35.925363",
     "status": "completed"
    },
    "tags": []
   },
   "outputs": [
    {
     "data": {
      "text/plain": [
       "array([ 34,  76, 118])"
      ]
     },
     "execution_count": 62,
     "metadata": {},
     "output_type": "execute_result"
    }
   ],
   "source": [
    "#dot, producto escalar o producto punto entre vector y matriz\n",
    "for i in range (m.shape[0]):\n",
    "    r[i]=0\n",
    "    for j in range(w.size):\n",
    "        r[i] += w[j]*m[i,j]\n",
    "r        "
   ]
  },
  {
   "cell_type": "markdown",
   "id": "7d6da0bb",
   "metadata": {},
   "source": [
    "Otra forma es con np.matmul() o np.dot(). Ver el help, es algo sobre como toma los datos, si los guarda en stack o no."
   ]
  },
  {
   "cell_type": "code",
   "execution_count": 35,
   "id": "71d6afd7",
   "metadata": {
    "execution": {
     "iopub.execute_input": "2023-08-25T00:40:35.982850Z",
     "iopub.status.busy": "2023-08-25T00:40:35.982424Z",
     "iopub.status.idle": "2023-08-25T00:40:35.989288Z",
     "shell.execute_reply": "2023-08-25T00:40:35.988424Z"
    },
    "papermill": {
     "duration": 0.023966,
     "end_time": "2023-08-25T00:40:35.991051",
     "exception": false,
     "start_time": "2023-08-25T00:40:35.967085",
     "status": "completed"
    },
    "tags": []
   },
   "outputs": [
    {
     "data": {
      "text/plain": [
       "array([ 34.,  76., 118.])"
      ]
     },
     "execution_count": 35,
     "metadata": {},
     "output_type": "execute_result"
    }
   ],
   "source": [
    "r = np.matmul(m,w)\n",
    "r"
   ]
  },
  {
   "cell_type": "code",
   "execution_count": 36,
   "id": "aa638570",
   "metadata": {
    "execution": {
     "iopub.execute_input": "2023-08-25T00:40:36.023280Z",
     "iopub.status.busy": "2023-08-25T00:40:36.022887Z",
     "iopub.status.idle": "2023-08-25T00:40:36.030225Z",
     "shell.execute_reply": "2023-08-25T00:40:36.028880Z"
    },
    "papermill": {
     "duration": 0.025937,
     "end_time": "2023-08-25T00:40:36.032099",
     "exception": false,
     "start_time": "2023-08-25T00:40:36.006162",
     "status": "completed"
    },
    "tags": []
   },
   "outputs": [
    {
     "data": {
      "text/plain": [
       "array([ 34.,  76., 118.])"
      ]
     },
     "execution_count": 36,
     "metadata": {},
     "output_type": "execute_result"
    }
   ],
   "source": [
    "r = np.dot(m,w)\n",
    "r"
   ]
  },
  {
   "cell_type": "code",
   "execution_count": 37,
   "id": "6bb555f7",
   "metadata": {
    "execution": {
     "iopub.execute_input": "2023-08-25T00:40:36.064135Z",
     "iopub.status.busy": "2023-08-25T00:40:36.063750Z",
     "iopub.status.idle": "2023-08-25T00:40:36.068275Z",
     "shell.execute_reply": "2023-08-25T00:40:36.067076Z"
    },
    "papermill": {
     "duration": 0.023482,
     "end_time": "2023-08-25T00:40:36.070655",
     "exception": false,
     "start_time": "2023-08-25T00:40:36.047173",
     "status": "completed"
    },
    "tags": []
   },
   "outputs": [],
   "source": [
    "#help(np.matmul)"
   ]
  },
  {
   "cell_type": "code",
   "execution_count": 38,
   "id": "dc6928d4",
   "metadata": {
    "execution": {
     "iopub.execute_input": "2023-08-25T00:40:36.102949Z",
     "iopub.status.busy": "2023-08-25T00:40:36.102524Z",
     "iopub.status.idle": "2023-08-25T00:40:36.109526Z",
     "shell.execute_reply": "2023-08-25T00:40:36.108542Z"
    },
    "papermill": {
     "duration": 0.024938,
     "end_time": "2023-08-25T00:40:36.111259",
     "exception": false,
     "start_time": "2023-08-25T00:40:36.086321",
     "status": "completed"
    },
    "tags": []
   },
   "outputs": [
    {
     "data": {
      "text/plain": [
       "array([0, 0, 1])"
      ]
     },
     "execution_count": 38,
     "metadata": {},
     "output_type": "execute_result"
    }
   ],
   "source": [
    "# Producto vectorial\n",
    "r = np.cross([1,0,0],[0,1,0])\n",
    "r"
   ]
  },
  {
   "cell_type": "markdown",
   "id": "a554be48",
   "metadata": {
    "papermill": {
     "duration": 0.0142,
     "end_time": "2023-08-25T00:40:36.140163",
     "exception": false,
     "start_time": "2023-08-25T00:40:36.125963",
     "status": "completed"
    },
    "tags": []
   },
   "source": [
    "# Funcion basicas"
   ]
  },
  {
   "cell_type": "code",
   "execution_count": 39,
   "id": "047b4e46",
   "metadata": {
    "execution": {
     "iopub.execute_input": "2023-08-25T00:40:36.170772Z",
     "iopub.status.busy": "2023-08-25T00:40:36.170436Z",
     "iopub.status.idle": "2023-08-25T00:40:36.175309Z",
     "shell.execute_reply": "2023-08-25T00:40:36.174434Z"
    },
    "papermill": {
     "duration": 0.022329,
     "end_time": "2023-08-25T00:40:36.177050",
     "exception": false,
     "start_time": "2023-08-25T00:40:36.154721",
     "status": "completed"
    },
    "tags": []
   },
   "outputs": [
    {
     "name": "stdout",
     "output_type": "stream",
     "text": [
      "9.0\n"
     ]
    }
   ],
   "source": [
    "print(m.max())"
   ]
  },
  {
   "cell_type": "code",
   "execution_count": 63,
   "id": "08922b9b",
   "metadata": {},
   "outputs": [
    {
     "data": {
      "text/plain": [
       "array([[1., 2., 3.],\n",
       "       [4., 5., 6.],\n",
       "       [7., 8., 9.]])"
      ]
     },
     "execution_count": 63,
     "metadata": {},
     "output_type": "execute_result"
    }
   ],
   "source": [
    "m"
   ]
  },
  {
   "cell_type": "code",
   "execution_count": 40,
   "id": "b6d6547c",
   "metadata": {
    "execution": {
     "iopub.execute_input": "2023-08-25T00:40:36.208354Z",
     "iopub.status.busy": "2023-08-25T00:40:36.208008Z",
     "iopub.status.idle": "2023-08-25T00:40:36.213270Z",
     "shell.execute_reply": "2023-08-25T00:40:36.212108Z"
    },
    "papermill": {
     "duration": 0.023387,
     "end_time": "2023-08-25T00:40:36.215258",
     "exception": false,
     "start_time": "2023-08-25T00:40:36.191871",
     "status": "completed"
    },
    "tags": []
   },
   "outputs": [
    {
     "name": "stdout",
     "output_type": "stream",
     "text": [
      "[7. 8. 9.]\n"
     ]
    }
   ],
   "source": [
    "print(m.max(axis=0))"
   ]
  },
  {
   "cell_type": "code",
   "execution_count": 41,
   "id": "161734ff",
   "metadata": {
    "execution": {
     "iopub.execute_input": "2023-08-25T00:40:36.246966Z",
     "iopub.status.busy": "2023-08-25T00:40:36.246549Z",
     "iopub.status.idle": "2023-08-25T00:40:36.251493Z",
     "shell.execute_reply": "2023-08-25T00:40:36.250859Z"
    },
    "papermill": {
     "duration": 0.022837,
     "end_time": "2023-08-25T00:40:36.253206",
     "exception": false,
     "start_time": "2023-08-25T00:40:36.230369",
     "status": "completed"
    },
    "tags": []
   },
   "outputs": [
    {
     "name": "stdout",
     "output_type": "stream",
     "text": [
      "[3. 6. 9.]\n"
     ]
    }
   ],
   "source": [
    "print(m.max(axis=1))"
   ]
  },
  {
   "cell_type": "code",
   "execution_count": 42,
   "id": "86adcfff",
   "metadata": {
    "execution": {
     "iopub.execute_input": "2023-08-25T00:40:36.284613Z",
     "iopub.status.busy": "2023-08-25T00:40:36.284014Z",
     "iopub.status.idle": "2023-08-25T00:40:36.289835Z",
     "shell.execute_reply": "2023-08-25T00:40:36.288480Z"
    },
    "papermill": {
     "duration": 0.023653,
     "end_time": "2023-08-25T00:40:36.291875",
     "exception": false,
     "start_time": "2023-08-25T00:40:36.268222",
     "status": "completed"
    },
    "tags": []
   },
   "outputs": [
    {
     "data": {
      "text/plain": [
       "5.0"
      ]
     },
     "execution_count": 42,
     "metadata": {},
     "output_type": "execute_result"
    }
   ],
   "source": [
    "m.mean()"
   ]
  },
  {
   "cell_type": "code",
   "execution_count": 43,
   "id": "64bbdd81",
   "metadata": {
    "execution": {
     "iopub.execute_input": "2023-08-25T00:40:36.322803Z",
     "iopub.status.busy": "2023-08-25T00:40:36.322412Z",
     "iopub.status.idle": "2023-08-25T00:40:36.328320Z",
     "shell.execute_reply": "2023-08-25T00:40:36.327459Z"
    },
    "papermill": {
     "duration": 0.023065,
     "end_time": "2023-08-25T00:40:36.329900",
     "exception": false,
     "start_time": "2023-08-25T00:40:36.306835",
     "status": "completed"
    },
    "tags": []
   },
   "outputs": [
    {
     "data": {
      "text/plain": [
       "2.581988897471611"
      ]
     },
     "execution_count": 43,
     "metadata": {},
     "output_type": "execute_result"
    }
   ],
   "source": [
    "m.std()"
   ]
  },
  {
   "cell_type": "code",
   "execution_count": 44,
   "id": "85551cdf",
   "metadata": {
    "execution": {
     "iopub.execute_input": "2023-08-25T00:40:36.362187Z",
     "iopub.status.busy": "2023-08-25T00:40:36.361752Z",
     "iopub.status.idle": "2023-08-25T00:40:36.369459Z",
     "shell.execute_reply": "2023-08-25T00:40:36.368781Z"
    },
    "papermill": {
     "duration": 0.026359,
     "end_time": "2023-08-25T00:40:36.371362",
     "exception": false,
     "start_time": "2023-08-25T00:40:36.345003",
     "status": "completed"
    },
    "tags": []
   },
   "outputs": [
    {
     "data": {
      "text/plain": [
       "array([[0.09983342, 0.19866933, 0.29552021],\n",
       "       [0.38941834, 0.47942554, 0.56464247],\n",
       "       [0.64421769, 0.71735609, 0.78332691]])"
      ]
     },
     "execution_count": 44,
     "metadata": {},
     "output_type": "execute_result"
    }
   ],
   "source": [
    "np.sin(m/10)"
   ]
  },
  {
   "cell_type": "code",
   "execution_count": 45,
   "id": "4146017c",
   "metadata": {
    "execution": {
     "iopub.execute_input": "2023-08-25T00:40:36.404284Z",
     "iopub.status.busy": "2023-08-25T00:40:36.403920Z",
     "iopub.status.idle": "2023-08-25T00:40:36.413057Z",
     "shell.execute_reply": "2023-08-25T00:40:36.411953Z"
    },
    "papermill": {
     "duration": 0.029072,
     "end_time": "2023-08-25T00:40:36.415542",
     "exception": false,
     "start_time": "2023-08-25T00:40:36.386470",
     "status": "completed"
    },
    "tags": []
   },
   "outputs": [
    {
     "data": {
      "text/plain": [
       "array([0., 1.])"
      ]
     },
     "execution_count": 45,
     "metadata": {},
     "output_type": "execute_result"
    }
   ],
   "source": [
    "np.unique(np.identity(100))"
   ]
  },
  {
   "cell_type": "markdown",
   "id": "01cc850e",
   "metadata": {
    "papermill": {
     "duration": 0.016431,
     "end_time": "2023-08-25T00:40:36.448345",
     "exception": false,
     "start_time": "2023-08-25T00:40:36.431914",
     "status": "completed"
    },
    "tags": []
   },
   "source": [
    "# Slicing"
   ]
  },
  {
   "cell_type": "code",
   "execution_count": 64,
   "id": "9532cde9",
   "metadata": {
    "execution": {
     "iopub.execute_input": "2023-08-25T00:40:36.481843Z",
     "iopub.status.busy": "2023-08-25T00:40:36.481433Z",
     "iopub.status.idle": "2023-08-25T00:40:36.487196Z",
     "shell.execute_reply": "2023-08-25T00:40:36.485438Z"
    },
    "papermill": {
     "duration": 0.02526,
     "end_time": "2023-08-25T00:40:36.489833",
     "exception": false,
     "start_time": "2023-08-25T00:40:36.464573",
     "status": "completed"
    },
    "tags": []
   },
   "outputs": [],
   "source": [
    "r = np.array([0,1,2])"
   ]
  },
  {
   "cell_type": "code",
   "execution_count": 47,
   "id": "fe82768a",
   "metadata": {
    "execution": {
     "iopub.execute_input": "2023-08-25T00:40:36.523358Z",
     "iopub.status.busy": "2023-08-25T00:40:36.523019Z",
     "iopub.status.idle": "2023-08-25T00:40:36.529904Z",
     "shell.execute_reply": "2023-08-25T00:40:36.528904Z"
    },
    "papermill": {
     "duration": 0.026713,
     "end_time": "2023-08-25T00:40:36.532153",
     "exception": false,
     "start_time": "2023-08-25T00:40:36.505440",
     "status": "completed"
    },
    "tags": []
   },
   "outputs": [
    {
     "data": {
      "text/plain": [
       "1"
      ]
     },
     "execution_count": 47,
     "metadata": {},
     "output_type": "execute_result"
    }
   ],
   "source": [
    "r[1]"
   ]
  },
  {
   "cell_type": "code",
   "execution_count": 48,
   "id": "f67d0c3a",
   "metadata": {
    "execution": {
     "iopub.execute_input": "2023-08-25T00:40:36.564511Z",
     "iopub.status.busy": "2023-08-25T00:40:36.564172Z",
     "iopub.status.idle": "2023-08-25T00:40:36.569868Z",
     "shell.execute_reply": "2023-08-25T00:40:36.568958Z"
    },
    "papermill": {
     "duration": 0.023769,
     "end_time": "2023-08-25T00:40:36.571552",
     "exception": false,
     "start_time": "2023-08-25T00:40:36.547783",
     "status": "completed"
    },
    "tags": []
   },
   "outputs": [
    {
     "data": {
      "text/plain": [
       "2"
      ]
     },
     "execution_count": 48,
     "metadata": {},
     "output_type": "execute_result"
    }
   ],
   "source": [
    "r[-1]"
   ]
  },
  {
   "cell_type": "code",
   "execution_count": 70,
   "id": "e25d2baf",
   "metadata": {
    "execution": {
     "iopub.execute_input": "2023-08-25T00:40:36.603560Z",
     "iopub.status.busy": "2023-08-25T00:40:36.603215Z",
     "iopub.status.idle": "2023-08-25T00:40:36.610321Z",
     "shell.execute_reply": "2023-08-25T00:40:36.609034Z"
    },
    "papermill": {
     "duration": 0.02532,
     "end_time": "2023-08-25T00:40:36.612202",
     "exception": false,
     "start_time": "2023-08-25T00:40:36.586882",
     "status": "completed"
    },
    "tags": []
   },
   "outputs": [
    {
     "data": {
      "text/plain": [
       "array([0, 2])"
      ]
     },
     "execution_count": 70,
     "metadata": {},
     "output_type": "execute_result"
    }
   ],
   "source": [
    "# elejimos la posiciones que queremos\n",
    "r[np.array([0,2])]\n"
   ]
  },
  {
   "cell_type": "code",
   "execution_count": 50,
   "id": "6db0ee30",
   "metadata": {
    "execution": {
     "iopub.execute_input": "2023-08-25T00:40:36.645074Z",
     "iopub.status.busy": "2023-08-25T00:40:36.644678Z",
     "iopub.status.idle": "2023-08-25T00:40:36.650957Z",
     "shell.execute_reply": "2023-08-25T00:40:36.650243Z"
    },
    "papermill": {
     "duration": 0.024749,
     "end_time": "2023-08-25T00:40:36.652580",
     "exception": false,
     "start_time": "2023-08-25T00:40:36.627831",
     "status": "completed"
    },
    "tags": []
   },
   "outputs": [
    {
     "data": {
      "text/plain": [
       "array([[1., 2., 3.],\n",
       "       [4., 5., 6.],\n",
       "       [7., 8., 9.]])"
      ]
     },
     "execution_count": 50,
     "metadata": {},
     "output_type": "execute_result"
    }
   ],
   "source": [
    "m"
   ]
  },
  {
   "cell_type": "code",
   "execution_count": 71,
   "id": "8bef5af5",
   "metadata": {
    "execution": {
     "iopub.execute_input": "2023-08-25T00:40:36.685896Z",
     "iopub.status.busy": "2023-08-25T00:40:36.685533Z",
     "iopub.status.idle": "2023-08-25T00:40:36.692477Z",
     "shell.execute_reply": "2023-08-25T00:40:36.691704Z"
    },
    "papermill": {
     "duration": 0.025557,
     "end_time": "2023-08-25T00:40:36.694186",
     "exception": false,
     "start_time": "2023-08-25T00:40:36.668629",
     "status": "completed"
    },
    "tags": []
   },
   "outputs": [
    {
     "data": {
      "text/plain": [
       "array([1., 4., 7.])"
      ]
     },
     "execution_count": 71,
     "metadata": {},
     "output_type": "execute_result"
    }
   ],
   "source": [
    "# todos los elementos de la primer dimension, y solo el elemento 0 de la segunda\n",
    "m[:,0]"
   ]
  },
  {
   "cell_type": "code",
   "execution_count": 52,
   "id": "0f0aedaa",
   "metadata": {
    "execution": {
     "iopub.execute_input": "2023-08-25T00:40:36.729294Z",
     "iopub.status.busy": "2023-08-25T00:40:36.728911Z",
     "iopub.status.idle": "2023-08-25T00:40:36.734464Z",
     "shell.execute_reply": "2023-08-25T00:40:36.733654Z"
    },
    "papermill": {
     "duration": 0.025104,
     "end_time": "2023-08-25T00:40:36.736613",
     "exception": false,
     "start_time": "2023-08-25T00:40:36.711509",
     "status": "completed"
    },
    "tags": []
   },
   "outputs": [
    {
     "data": {
      "text/plain": [
       "array([2., 5., 8.])"
      ]
     },
     "execution_count": 52,
     "metadata": {},
     "output_type": "execute_result"
    }
   ],
   "source": [
    "m[:,1]"
   ]
  },
  {
   "cell_type": "code",
   "execution_count": 81,
   "id": "c2ea6d5c",
   "metadata": {
    "execution": {
     "iopub.execute_input": "2023-08-25T00:40:36.770195Z",
     "iopub.status.busy": "2023-08-25T00:40:36.769819Z",
     "iopub.status.idle": "2023-08-25T00:40:36.775894Z",
     "shell.execute_reply": "2023-08-25T00:40:36.775061Z"
    },
    "papermill": {
     "duration": 0.025383,
     "end_time": "2023-08-25T00:40:36.778164",
     "exception": false,
     "start_time": "2023-08-25T00:40:36.752781",
     "status": "completed"
    },
    "tags": []
   },
   "outputs": [
    {
     "data": {
      "text/plain": [
       "array([1., 4.])"
      ]
     },
     "execution_count": 81,
     "metadata": {},
     "output_type": "execute_result"
    }
   ],
   "source": [
    "# 0 al 2 sin incluir de la primer dimension, y le 0 de la segunda dimension\n",
    "m[0:2,0]"
   ]
  },
  {
   "cell_type": "code",
   "execution_count": 54,
   "id": "ae07c6e4",
   "metadata": {
    "execution": {
     "iopub.execute_input": "2023-08-25T00:40:36.813307Z",
     "iopub.status.busy": "2023-08-25T00:40:36.812944Z",
     "iopub.status.idle": "2023-08-25T00:40:36.818783Z",
     "shell.execute_reply": "2023-08-25T00:40:36.818059Z"
    },
    "papermill": {
     "duration": 0.02534,
     "end_time": "2023-08-25T00:40:36.820419",
     "exception": false,
     "start_time": "2023-08-25T00:40:36.795079",
     "status": "completed"
    },
    "tags": []
   },
   "outputs": [
    {
     "data": {
      "text/plain": [
       "array([[1., 2., 3.],\n",
       "       [4., 5., 6.]])"
      ]
     },
     "execution_count": 54,
     "metadata": {},
     "output_type": "execute_result"
    }
   ],
   "source": [
    "m[0:2,:]"
   ]
  },
  {
   "cell_type": "code",
   "execution_count": 83,
   "id": "2a296a0d",
   "metadata": {
    "execution": {
     "iopub.execute_input": "2023-08-25T00:40:36.855643Z",
     "iopub.status.busy": "2023-08-25T00:40:36.855285Z",
     "iopub.status.idle": "2023-08-25T00:40:36.863073Z",
     "shell.execute_reply": "2023-08-25T00:40:36.861624Z"
    },
    "papermill": {
     "duration": 0.027426,
     "end_time": "2023-08-25T00:40:36.864854",
     "exception": false,
     "start_time": "2023-08-25T00:40:36.837428",
     "status": "completed"
    },
    "tags": []
   },
   "outputs": [
    {
     "data": {
      "text/plain": [
       "array([[1., 2., 3.],\n",
       "       [4., 5., 6.]])"
      ]
     },
     "execution_count": 83,
     "metadata": {},
     "output_type": "execute_result"
    }
   ],
   "source": [
    "m[0:-1,:]"
   ]
  },
  {
   "cell_type": "code",
   "execution_count": 56,
   "id": "3cf046f4",
   "metadata": {
    "execution": {
     "iopub.execute_input": "2023-08-25T00:40:36.900393Z",
     "iopub.status.busy": "2023-08-25T00:40:36.900039Z",
     "iopub.status.idle": "2023-08-25T00:40:36.906130Z",
     "shell.execute_reply": "2023-08-25T00:40:36.905271Z"
    },
    "papermill": {
     "duration": 0.026566,
     "end_time": "2023-08-25T00:40:36.908370",
     "exception": false,
     "start_time": "2023-08-25T00:40:36.881804",
     "status": "completed"
    },
    "tags": []
   },
   "outputs": [
    {
     "data": {
      "text/plain": [
       "array([[4., 5., 6.],\n",
       "       [7., 8., 9.]])"
      ]
     },
     "execution_count": 56,
     "metadata": {},
     "output_type": "execute_result"
    }
   ],
   "source": [
    "m[1:,:]"
   ]
  },
  {
   "cell_type": "markdown",
   "id": "ca38c605",
   "metadata": {
    "papermill": {
     "duration": 0.016476,
     "end_time": "2023-08-25T00:40:36.976109",
     "exception": false,
     "start_time": "2023-08-25T00:40:36.959633",
     "status": "completed"
    },
    "tags": []
   },
   "source": [
    "# Codificacion one hot  \n",
    "Se llama asi porque tiene un 1 y el resto en 0"
   ]
  },
  {
   "cell_type": "code",
   "execution_count": 57,
   "id": "effbf454",
   "metadata": {
    "execution": {
     "iopub.execute_input": "2023-08-25T00:40:37.012581Z",
     "iopub.status.busy": "2023-08-25T00:40:37.011523Z",
     "iopub.status.idle": "2023-08-25T00:40:37.017789Z",
     "shell.execute_reply": "2023-08-25T00:40:37.016376Z"
    },
    "papermill": {
     "duration": 0.026578,
     "end_time": "2023-08-25T00:40:37.019884",
     "exception": false,
     "start_time": "2023-08-25T00:40:36.993306",
     "status": "completed"
    },
    "tags": []
   },
   "outputs": [
    {
     "name": "stdout",
     "output_type": "stream",
     "text": [
      "[[1. 0. 0. 0. 0. 0. 0. 0. 0. 0.]\n",
      " [0. 1. 0. 0. 0. 0. 0. 0. 0. 0.]\n",
      " [0. 0. 1. 0. 0. 0. 0. 0. 0. 0.]\n",
      " [0. 0. 0. 1. 0. 0. 0. 0. 0. 0.]\n",
      " [0. 0. 0. 0. 1. 0. 0. 0. 0. 0.]\n",
      " [0. 0. 0. 0. 0. 1. 0. 0. 0. 0.]\n",
      " [0. 0. 0. 0. 0. 0. 1. 0. 0. 0.]\n",
      " [0. 0. 0. 0. 0. 0. 0. 1. 0. 0.]\n",
      " [0. 0. 0. 0. 0. 0. 0. 0. 1. 0.]\n",
      " [0. 0. 0. 0. 0. 0. 0. 0. 0. 1.]]\n"
     ]
    }
   ],
   "source": [
    "nb_classes = 10\n",
    "print(np.identity(nb_classes))"
   ]
  },
  {
   "cell_type": "code",
   "execution_count": 58,
   "id": "f1319494",
   "metadata": {
    "execution": {
     "iopub.execute_input": "2023-08-25T00:40:37.057377Z",
     "iopub.status.busy": "2023-08-25T00:40:37.056973Z",
     "iopub.status.idle": "2023-08-25T00:40:37.063283Z",
     "shell.execute_reply": "2023-08-25T00:40:37.062156Z"
    },
    "papermill": {
     "duration": 0.028105,
     "end_time": "2023-08-25T00:40:37.065194",
     "exception": false,
     "start_time": "2023-08-25T00:40:37.037089",
     "status": "completed"
    },
    "tags": []
   },
   "outputs": [
    {
     "data": {
      "text/plain": [
       "array([2, 3, 4, 0, 8])"
      ]
     },
     "execution_count": 58,
     "metadata": {},
     "output_type": "execute_result"
    }
   ],
   "source": [
    "targets = np.array([2,3,4,0,8])\n",
    "targets"
   ]
  },
  {
   "cell_type": "code",
   "execution_count": 59,
   "id": "e4fa2cc3",
   "metadata": {
    "execution": {
     "iopub.execute_input": "2023-08-25T00:40:37.099768Z",
     "iopub.status.busy": "2023-08-25T00:40:37.099389Z",
     "iopub.status.idle": "2023-08-25T00:40:37.105370Z",
     "shell.execute_reply": "2023-08-25T00:40:37.104115Z"
    },
    "papermill": {
     "duration": 0.025177,
     "end_time": "2023-08-25T00:40:37.107072",
     "exception": false,
     "start_time": "2023-08-25T00:40:37.081895",
     "status": "completed"
    },
    "tags": []
   },
   "outputs": [
    {
     "data": {
      "text/plain": [
       "nan"
      ]
     },
     "execution_count": 59,
     "metadata": {},
     "output_type": "execute_result"
    }
   ],
   "source": [
    "np.nan"
   ]
  },
  {
   "cell_type": "code",
   "execution_count": 60,
   "id": "85c40238",
   "metadata": {
    "execution": {
     "iopub.execute_input": "2023-08-25T00:40:37.141061Z",
     "iopub.status.busy": "2023-08-25T00:40:37.140716Z",
     "iopub.status.idle": "2023-08-25T00:40:37.146617Z",
     "shell.execute_reply": "2023-08-25T00:40:37.146057Z"
    },
    "papermill": {
     "duration": 0.025016,
     "end_time": "2023-08-25T00:40:37.148222",
     "exception": false,
     "start_time": "2023-08-25T00:40:37.123206",
     "status": "completed"
    },
    "tags": []
   },
   "outputs": [
    {
     "data": {
      "text/plain": [
       "array([[0., 0., 1., 0., 0., 0., 0., 0., 0., 0.],\n",
       "       [0., 0., 0., 1., 0., 0., 0., 0., 0., 0.],\n",
       "       [0., 0., 0., 0., 1., 0., 0., 0., 0., 0.],\n",
       "       [1., 0., 0., 0., 0., 0., 0., 0., 0., 0.],\n",
       "       [0., 0., 0., 0., 0., 0., 0., 0., 1., 0.]])"
      ]
     },
     "execution_count": 60,
     "metadata": {},
     "output_type": "execute_result"
    }
   ],
   "source": [
    "# se puede hacer con multiplicacion de matriz con vector\n",
    "# o se pueda hace con slicing, instancio la matriz y me quedo con los elementos (filas) deseadas\n",
    "one_hot = np.identity(nb_classes)[targets]\n",
    "one_hot"
   ]
  }
 ],
 "metadata": {
  "kernelspec": {
   "display_name": "Python 3",
   "language": "python",
   "name": "python3"
  },
  "language_info": {
   "codemirror_mode": {
    "name": "ipython",
    "version": 3
   },
   "file_extension": ".py",
   "mimetype": "text/x-python",
   "name": "python",
   "nbconvert_exporter": "python",
   "pygments_lexer": "ipython3",
   "version": "3.11.4"
  },
  "papermill": {
   "default_parameters": {},
   "duration": 12.459504,
   "end_time": "2023-08-25T00:40:38.019577",
   "environment_variables": {},
   "exception": null,
   "input_path": "__notebook__.ipynb",
   "output_path": "__notebook__.ipynb",
   "parameters": {},
   "start_time": "2023-08-25T00:40:25.560073",
   "version": "2.4.0"
  }
 },
 "nbformat": 4,
 "nbformat_minor": 5
}
