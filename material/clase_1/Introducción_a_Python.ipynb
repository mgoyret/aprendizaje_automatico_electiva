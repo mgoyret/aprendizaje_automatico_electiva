{
 "cells": [
  {
   "cell_type": "markdown",
   "id": "d523d692-01c4-4f14-827c-a52c1e6fe91e",
   "metadata": {},
   "source": [
    "# Python"
   ]
  },
  {
   "cell_type": "markdown",
   "id": "bb5ac4e7-b974-4e78-b39b-27acb71e6f2c",
   "metadata": {},
   "source": [
    "## "
   ]
  },
  {
   "cell_type": "code",
   "execution_count": 54,
   "id": "977e84af-3198-4756-bb7d-21b25e096e09",
   "metadata": {
    "tags": []
   },
   "outputs": [],
   "source": [
    "# Esto es un comentario"
   ]
  },
  {
   "cell_type": "code",
   "execution_count": null,
   "id": "bc863907-9271-4e10-bb5f-e342faf1ddc0",
   "metadata": {},
   "outputs": [],
   "source": []
  },
  {
   "cell_type": "markdown",
   "id": "3c2dedd0-cfdb-4671-be32-b11d96d11339",
   "metadata": {},
   "source": [
    "\n",
    "### Assignaciónd e variables"
   ]
  },
  {
   "cell_type": "markdown",
   "id": "c7514300-c539-4a46-a1a4-8b177b134697",
   "metadata": {},
   "source": [
    "## int"
   ]
  },
  {
   "cell_type": "code",
   "execution_count": 2,
   "id": "a43ced3f-727f-43bb-aa10-0109a507ee37",
   "metadata": {
    "tags": []
   },
   "outputs": [],
   "source": [
    "numero = 3"
   ]
  },
  {
   "cell_type": "code",
   "execution_count": 3,
   "id": "19a5e3eb-7822-4d60-871b-68eac429430d",
   "metadata": {
    "tags": []
   },
   "outputs": [],
   "source": [
    "numero = 4"
   ]
  },
  {
   "cell_type": "code",
   "execution_count": 4,
   "id": "8b110e16-399c-4845-8516-d12ef9587d82",
   "metadata": {
    "tags": []
   },
   "outputs": [
    {
     "data": {
      "text/plain": [
       "4"
      ]
     },
     "execution_count": 4,
     "metadata": {},
     "output_type": "execute_result"
    }
   ],
   "source": [
    "numero"
   ]
  },
  {
   "cell_type": "code",
   "execution_count": 5,
   "id": "9a744c84-e460-4f3d-abcc-7a84fbe1e0ae",
   "metadata": {
    "tags": []
   },
   "outputs": [
    {
     "data": {
      "text/plain": [
       "int"
      ]
     },
     "execution_count": 5,
     "metadata": {},
     "output_type": "execute_result"
    }
   ],
   "source": [
    "type(numero)"
   ]
  },
  {
   "cell_type": "markdown",
   "id": "e8ed27db-073a-4c4b-ba72-cc4f16a86ba2",
   "metadata": {},
   "source": [
    "## float"
   ]
  },
  {
   "cell_type": "code",
   "execution_count": 6,
   "id": "51e8c2df-6db9-419a-af42-6b5757197c12",
   "metadata": {
    "tags": []
   },
   "outputs": [],
   "source": [
    "numero = 3.4"
   ]
  },
  {
   "cell_type": "code",
   "execution_count": 7,
   "id": "216546d1-2b5b-44dd-95ce-1fb98567603d",
   "metadata": {
    "tags": []
   },
   "outputs": [
    {
     "data": {
      "text/plain": [
       "float"
      ]
     },
     "execution_count": 7,
     "metadata": {},
     "output_type": "execute_result"
    }
   ],
   "source": [
    "type(numero)"
   ]
  },
  {
   "cell_type": "markdown",
   "id": "5f8fc396-e086-4efc-998d-16f14cf19135",
   "metadata": {},
   "source": [
    "## String"
   ]
  },
  {
   "cell_type": "code",
   "execution_count": 8,
   "id": "4228c3d5-135a-4f4d-9fb4-e29594d9e93a",
   "metadata": {
    "tags": []
   },
   "outputs": [],
   "source": [
    "cadena = \"mi cadena\""
   ]
  },
  {
   "cell_type": "code",
   "execution_count": 9,
   "id": "b68ea0fd-8958-4981-8e1a-72413f42f9cb",
   "metadata": {
    "tags": []
   },
   "outputs": [],
   "source": [
    "cadena = 'mi cadena con comillas simples'"
   ]
  },
  {
   "cell_type": "code",
   "execution_count": 10,
   "id": "aceba491-b3b0-4841-9406-31e5e3635f5f",
   "metadata": {
    "tags": []
   },
   "outputs": [],
   "source": [
    "cadena = \"'Cosas con comillas simples'\""
   ]
  },
  {
   "cell_type": "code",
   "execution_count": 11,
   "id": "e9e61e1f-a7af-4e13-87e7-1943357faed3",
   "metadata": {
    "tags": []
   },
   "outputs": [
    {
     "data": {
      "text/plain": [
       "\"'Cosas con comillas simples'\""
      ]
     },
     "execution_count": 11,
     "metadata": {},
     "output_type": "execute_result"
    }
   ],
   "source": [
    "cadena"
   ]
  },
  {
   "cell_type": "code",
   "execution_count": 12,
   "id": "507cf54f-610c-409b-bf85-1c3b1c944546",
   "metadata": {
    "tags": []
   },
   "outputs": [],
   "source": [
    "cadena = 'Cosas con comillas simples'"
   ]
  },
  {
   "cell_type": "code",
   "execution_count": 13,
   "id": "adc0a314-ba35-409e-a697-409e41120124",
   "metadata": {
    "tags": []
   },
   "outputs": [
    {
     "data": {
      "text/plain": [
       "'Cosas con comillas simples'"
      ]
     },
     "execution_count": 13,
     "metadata": {},
     "output_type": "execute_result"
    }
   ],
   "source": [
    "cadena"
   ]
  },
  {
   "cell_type": "code",
   "execution_count": 14,
   "id": "f0a62d48-4ac9-42ab-8605-72c243433802",
   "metadata": {
    "tags": []
   },
   "outputs": [],
   "source": [
    "cadena = \"hola\\\"hay una comilla\\\"\""
   ]
  },
  {
   "cell_type": "code",
   "execution_count": 15,
   "id": "d037e26c-34a6-4622-bcbf-191628ad861a",
   "metadata": {
    "tags": []
   },
   "outputs": [
    {
     "data": {
      "text/plain": [
       "'hola\"hay una comilla\"'"
      ]
     },
     "execution_count": 15,
     "metadata": {},
     "output_type": "execute_result"
    }
   ],
   "source": [
    "cadena"
   ]
  },
  {
   "cell_type": "markdown",
   "id": "9bca2030-a0cc-4919-93c1-2b6ee3e040c7",
   "metadata": {},
   "source": [
    "## Bool"
   ]
  },
  {
   "cell_type": "code",
   "execution_count": 16,
   "id": "cfb36d12-5d6c-497b-a269-8fa8f10a0f18",
   "metadata": {
    "tags": []
   },
   "outputs": [],
   "source": [
    "mi_booleano = True"
   ]
  },
  {
   "cell_type": "code",
   "execution_count": 17,
   "id": "153606be-7da0-4a39-998a-dd690f0af4a3",
   "metadata": {
    "tags": []
   },
   "outputs": [],
   "source": [
    "mi_otro_booleano = False"
   ]
  },
  {
   "cell_type": "code",
   "execution_count": 18,
   "id": "3e61e388-fc20-45ab-9611-f084c0dac249",
   "metadata": {
    "tags": []
   },
   "outputs": [
    {
     "data": {
      "text/plain": [
       "bool"
      ]
     },
     "execution_count": 18,
     "metadata": {},
     "output_type": "execute_result"
    }
   ],
   "source": [
    "type(mi_booleano)"
   ]
  },
  {
   "cell_type": "code",
   "execution_count": 19,
   "id": "56160754-0a12-4aa5-8eef-9f599d35aca2",
   "metadata": {
    "tags": []
   },
   "outputs": [
    {
     "data": {
      "text/plain": [
       "bool"
      ]
     },
     "execution_count": 19,
     "metadata": {},
     "output_type": "execute_result"
    }
   ],
   "source": [
    "type(mi_otro_booleano)"
   ]
  },
  {
   "cell_type": "code",
   "execution_count": 20,
   "id": "509a5feb-eb8e-4476-aab0-1a3ac260ae74",
   "metadata": {
    "tags": []
   },
   "outputs": [
    {
     "data": {
      "text/plain": [
       "False"
      ]
     },
     "execution_count": 20,
     "metadata": {},
     "output_type": "execute_result"
    }
   ],
   "source": [
    "mi_booleano == mi_otro_booleano"
   ]
  },
  {
   "cell_type": "markdown",
   "id": "355ad6f8-2c39-4676-acdc-8917316daac3",
   "metadata": {},
   "source": [
    "### if"
   ]
  },
  {
   "cell_type": "code",
   "execution_count": 21,
   "id": "1b54024d-85d5-42ac-99ef-ba0382e38bc0",
   "metadata": {
    "tags": []
   },
   "outputs": [
    {
     "name": "stdout",
     "output_type": "stream",
     "text": [
      "Son distintos\n"
     ]
    }
   ],
   "source": [
    "if (mi_booleano == mi_otro_booleano):\n",
    "    print(\"Son iguales\")\n",
    "else:\n",
    "    print(\"Son distintos\")"
   ]
  },
  {
   "cell_type": "markdown",
   "id": "917ac88d-c6c1-45d1-b42a-d307c756fc85",
   "metadata": {},
   "source": [
    "## tuple\n",
    "\n",
    "Es un arreglo de datos ordenados que no se puede mutar (modificar). Esto lo hace mas eficiente para algunas cosas"
   ]
  },
  {
   "cell_type": "code",
   "execution_count": 28,
   "id": "7d685b5a-8fab-4be9-8478-f9c71654c748",
   "metadata": {
    "tags": []
   },
   "outputs": [],
   "source": [
    "mi_tupla = (2, 4, 7)"
   ]
  },
  {
   "cell_type": "code",
   "execution_count": 31,
   "id": "826cb6c7-8f4e-4ee8-bb30-c83934220c7a",
   "metadata": {
    "tags": []
   },
   "outputs": [
    {
     "data": {
      "text/plain": [
       "(2, 4, 7)"
      ]
     },
     "execution_count": 31,
     "metadata": {},
     "output_type": "execute_result"
    }
   ],
   "source": [
    "mi_tupla"
   ]
  },
  {
   "cell_type": "code",
   "execution_count": 30,
   "id": "b7b80ea4-8433-49ec-9466-70138c5befd5",
   "metadata": {
    "tags": []
   },
   "outputs": [
    {
     "data": {
      "text/plain": [
       "4"
      ]
     },
     "execution_count": 30,
     "metadata": {},
     "output_type": "execute_result"
    }
   ],
   "source": [
    "mi_tupla[1]"
   ]
  },
  {
   "cell_type": "code",
   "execution_count": 32,
   "id": "2e907f26-a430-4287-af38-135cf8a0c8a2",
   "metadata": {
    "tags": []
   },
   "outputs": [
    {
     "ename": "TypeError",
     "evalue": "'tuple' object does not support item assignment",
     "output_type": "error",
     "traceback": [
      "\u001b[0;31m---------------------------------------------------------------------------\u001b[0m",
      "\u001b[0;31mTypeError\u001b[0m                                 Traceback (most recent call last)",
      "\u001b[0;32m/var/folders/pz/y3j_kd0x7_l6mkwqj2x5_f0wvzrf5_/T/ipykernel_10595/1385861580.py\u001b[0m in \u001b[0;36m<module>\u001b[0;34m\u001b[0m\n\u001b[0;32m----> 1\u001b[0;31m \u001b[0mmi_tupla\u001b[0m\u001b[0;34m[\u001b[0m\u001b[0;36m0\u001b[0m\u001b[0;34m]\u001b[0m \u001b[0;34m=\u001b[0m \u001b[0;36m2\u001b[0m\u001b[0;34m\u001b[0m\u001b[0;34m\u001b[0m\u001b[0m\n\u001b[0m",
      "\u001b[0;31mTypeError\u001b[0m: 'tuple' object does not support item assignment"
     ]
    }
   ],
   "source": [
    "mi_tupla[0] = 2"
   ]
  },
  {
   "cell_type": "code",
   "execution_count": 1,
   "id": "a902cda8-ea9e-47f3-846c-a73329f3bf49",
   "metadata": {
    "tags": []
   },
   "outputs": [],
   "source": [
    "mi_tupla = (\"cadena\", 3.4, 3)"
   ]
  },
  {
   "cell_type": "code",
   "execution_count": 2,
   "id": "0f0b75a1-9079-4c7f-9af5-662ee9283ab6",
   "metadata": {
    "tags": []
   },
   "outputs": [
    {
     "data": {
      "text/plain": [
       "str"
      ]
     },
     "execution_count": 2,
     "metadata": {},
     "output_type": "execute_result"
    }
   ],
   "source": [
    "type(mi_tupla[0])"
   ]
  },
  {
   "cell_type": "code",
   "execution_count": 36,
   "id": "bfd09e34-3be9-490c-84da-ab082b4bacce",
   "metadata": {
    "tags": []
   },
   "outputs": [
    {
     "data": {
      "text/plain": [
       "float"
      ]
     },
     "execution_count": 36,
     "metadata": {},
     "output_type": "execute_result"
    }
   ],
   "source": [
    "type(mi_tupla[1])"
   ]
  },
  {
   "cell_type": "code",
   "execution_count": 37,
   "id": "d04989ed-2ed9-40e9-86b7-8716cc4a420c",
   "metadata": {
    "tags": []
   },
   "outputs": [
    {
     "data": {
      "text/plain": [
       "tuple"
      ]
     },
     "execution_count": 37,
     "metadata": {},
     "output_type": "execute_result"
    }
   ],
   "source": [
    "type(mi_tupla)"
   ]
  },
  {
   "cell_type": "code",
   "execution_count": 65,
   "id": "0a0ff410-f4e6-41cb-9a61-3d1d9db43fdd",
   "metadata": {
    "tags": []
   },
   "outputs": [],
   "source": [
    "a, b, c = mi_tupla"
   ]
  },
  {
   "cell_type": "code",
   "execution_count": 66,
   "id": "2f9397a1-9935-4ddf-8e4c-12ae741e7c31",
   "metadata": {
    "tags": []
   },
   "outputs": [
    {
     "data": {
      "text/plain": [
       "'cadena'"
      ]
     },
     "execution_count": 66,
     "metadata": {},
     "output_type": "execute_result"
    }
   ],
   "source": [
    "a"
   ]
  },
  {
   "cell_type": "code",
   "execution_count": 67,
   "id": "bc3d4b3a-f78b-4c2e-92e6-8f9ddaeec8f0",
   "metadata": {
    "tags": []
   },
   "outputs": [
    {
     "data": {
      "text/plain": [
       "3.4"
      ]
     },
     "execution_count": 67,
     "metadata": {},
     "output_type": "execute_result"
    }
   ],
   "source": [
    "b"
   ]
  },
  {
   "cell_type": "code",
   "execution_count": 68,
   "id": "1b7958c2-8302-484a-88f1-2dcd70558675",
   "metadata": {
    "tags": []
   },
   "outputs": [
    {
     "data": {
      "text/plain": [
       "3"
      ]
     },
     "execution_count": 68,
     "metadata": {},
     "output_type": "execute_result"
    }
   ],
   "source": [
    "c"
   ]
  },
  {
   "cell_type": "code",
   "execution_count": null,
   "id": "1d1719a3-f338-4d71-8440-f29c79213f41",
   "metadata": {},
   "outputs": [],
   "source": []
  },
  {
   "cell_type": "markdown",
   "id": "ced5e28a-2cc3-4853-a498-61f3416b211b",
   "metadata": {},
   "source": [
    "## lista"
   ]
  },
  {
   "cell_type": "code",
   "execution_count": 22,
   "id": "b3d4ba4f-d800-4bd8-9fd8-0b922ecf09f7",
   "metadata": {
    "tags": []
   },
   "outputs": [],
   "source": [
    "mi_lista = [1, 2, 3, 4]"
   ]
  },
  {
   "cell_type": "code",
   "execution_count": 23,
   "id": "f3dcb4ed-a03c-4520-815f-4e25c5bd339b",
   "metadata": {
    "tags": []
   },
   "outputs": [
    {
     "data": {
      "text/plain": [
       "[1, 2, 3, 4]"
      ]
     },
     "execution_count": 23,
     "metadata": {},
     "output_type": "execute_result"
    }
   ],
   "source": [
    "mi_lista"
   ]
  },
  {
   "cell_type": "code",
   "execution_count": 24,
   "id": "57c7993c-1f88-4555-907d-5321409a9ba3",
   "metadata": {
    "tags": []
   },
   "outputs": [
    {
     "data": {
      "text/plain": [
       "3"
      ]
     },
     "execution_count": 24,
     "metadata": {},
     "output_type": "execute_result"
    }
   ],
   "source": [
    "mi_lista[2]"
   ]
  },
  {
   "cell_type": "code",
   "execution_count": 26,
   "id": "295c4823-90f0-4237-882a-34239d61e674",
   "metadata": {
    "tags": []
   },
   "outputs": [],
   "source": [
    "mi_lista[2] = 4"
   ]
  },
  {
   "cell_type": "code",
   "execution_count": 27,
   "id": "aa137959-a3c9-43f7-905a-33d8132f2e43",
   "metadata": {
    "tags": []
   },
   "outputs": [
    {
     "data": {
      "text/plain": [
       "[1, 2, 4, 4]"
      ]
     },
     "execution_count": 27,
     "metadata": {},
     "output_type": "execute_result"
    }
   ],
   "source": [
    "mi_lista"
   ]
  },
  {
   "cell_type": "code",
   "execution_count": null,
   "id": "20b9ea63-ce76-4fa8-8073-e7a8afbbd979",
   "metadata": {},
   "outputs": [],
   "source": []
  },
  {
   "cell_type": "code",
   "execution_count": 40,
   "id": "e36a2e8b-6185-4764-8f19-93c0f5874d15",
   "metadata": {
    "tags": []
   },
   "outputs": [
    {
     "name": "stdout",
     "output_type": "stream",
     "text": [
      "<class 'list'>\n"
     ]
    }
   ],
   "source": [
    "if isinstance(mi_lista, tuple):\n",
    "    print(\"Es una tupla\")\n",
    "else:\n",
    "    print(type(mi_lista))"
   ]
  },
  {
   "cell_type": "code",
   "execution_count": 83,
   "id": "a0d25af0-ae07-4632-9581-aafe030af7bd",
   "metadata": {
    "tags": []
   },
   "outputs": [],
   "source": [
    "mi_otra_lista = []\n",
    "mi_otra_lista.append(2)\n",
    "mi_otra_lista.append(4)\n",
    "mi_otra_lista.append(9)\n",
    "mi_otra_lista.append(0)\n"
   ]
  },
  {
   "cell_type": "code",
   "execution_count": 84,
   "id": "390981ed-cb09-4160-afa8-8805ce290db3",
   "metadata": {
    "tags": []
   },
   "outputs": [
    {
     "data": {
      "text/plain": [
       "[2, 4, 9, 0]"
      ]
     },
     "execution_count": 84,
     "metadata": {},
     "output_type": "execute_result"
    }
   ],
   "source": [
    "mi_otra_lista"
   ]
  },
  {
   "cell_type": "markdown",
   "id": "8ddeae6a-ed87-47e6-8a4f-b04cc065c76c",
   "metadata": {},
   "source": [
    "## set (conjunto)\n",
    "\n",
    "Es un conjunto de cosas que no necesariamente estan ordenados. Lo defino de una manera y se puede guardar de otra. Lo ordena de forma tal que sea mas ordenado"
   ]
  },
  {
   "cell_type": "code",
   "execution_count": 41,
   "id": "386487de-41d1-40a4-a9e5-dd923906bb1a",
   "metadata": {
    "tags": []
   },
   "outputs": [],
   "source": [
    "mi_set = {'cadena', '3', 3}"
   ]
  },
  {
   "cell_type": "code",
   "execution_count": 42,
   "id": "7b956bbd-dde4-4b01-86c4-f72f0eab346d",
   "metadata": {
    "tags": []
   },
   "outputs": [
    {
     "data": {
      "text/plain": [
       "{3, '3', 'cadena'}"
      ]
     },
     "execution_count": 42,
     "metadata": {},
     "output_type": "execute_result"
    }
   ],
   "source": [
    "mi_set"
   ]
  },
  {
   "cell_type": "code",
   "execution_count": 43,
   "id": "a688c26f-b41a-4a35-80e6-786051234f3f",
   "metadata": {
    "tags": []
   },
   "outputs": [],
   "source": [
    "mi_set.add('casa')"
   ]
  },
  {
   "cell_type": "code",
   "execution_count": 44,
   "id": "c6a0ecdb-21e3-4ccd-9e8c-ac6746114cbf",
   "metadata": {
    "tags": []
   },
   "outputs": [
    {
     "data": {
      "text/plain": [
       "{3, '3', 'cadena', 'casa'}"
      ]
     },
     "execution_count": 44,
     "metadata": {},
     "output_type": "execute_result"
    }
   ],
   "source": [
    "mi_set"
   ]
  },
  {
   "cell_type": "code",
   "execution_count": 45,
   "id": "f281e04d-8716-4ae2-b776-e563dabfe39c",
   "metadata": {
    "tags": []
   },
   "outputs": [],
   "source": [
    "mi_set.add('casa')"
   ]
  },
  {
   "cell_type": "code",
   "execution_count": 47,
   "id": "19ecbdd2-6403-4e2e-aad5-3dfffa5af1d6",
   "metadata": {
    "tags": []
   },
   "outputs": [],
   "source": [
    "mi_set.remove('3')"
   ]
  },
  {
   "cell_type": "code",
   "execution_count": 48,
   "id": "6b35e7af-3e6f-4cf9-b357-ab10957a0920",
   "metadata": {
    "tags": []
   },
   "outputs": [
    {
     "data": {
      "text/plain": [
       "{3, 'cadena', 'casa'}"
      ]
     },
     "execution_count": 48,
     "metadata": {},
     "output_type": "execute_result"
    }
   ],
   "source": [
    "mi_set"
   ]
  },
  {
   "cell_type": "code",
   "execution_count": 49,
   "id": "d043c615-a1bd-4a69-9f3f-905613e645fe",
   "metadata": {
    "tags": []
   },
   "outputs": [],
   "source": [
    "mi_otro_set = {3}"
   ]
  },
  {
   "cell_type": "code",
   "execution_count": 50,
   "id": "6dcddfb1-4099-41fd-8138-4fdc7e3138e2",
   "metadata": {
    "tags": []
   },
   "outputs": [
    {
     "data": {
      "text/plain": [
       "{'cadena', 'casa'}"
      ]
     },
     "execution_count": 50,
     "metadata": {},
     "output_type": "execute_result"
    }
   ],
   "source": [
    "mi_set.difference(mi_otro_set)"
   ]
  },
  {
   "cell_type": "code",
   "execution_count": null,
   "id": "237fe997-eee4-4579-9767-35bc3efd218a",
   "metadata": {},
   "outputs": [],
   "source": []
  },
  {
   "cell_type": "code",
   "execution_count": 51,
   "id": "17758b97-d4e0-4217-b595-a1d39836565b",
   "metadata": {
    "tags": []
   },
   "outputs": [
    {
     "name": "stdout",
     "output_type": "stream",
     "text": [
      "existe\n"
     ]
    }
   ],
   "source": [
    "if 3 in mi_set:\n",
    "    print(\"existe\")\n",
    "else:\n",
    "    print(\"No existe\")"
   ]
  },
  {
   "cell_type": "code",
   "execution_count": null,
   "id": "c8ab96da-3899-44b1-be12-8e1a376ba6cc",
   "metadata": {},
   "outputs": [],
   "source": []
  },
  {
   "cell_type": "markdown",
   "id": "154b115b-4ba9-4411-835b-8184ce8d015f",
   "metadata": {
    "tags": []
   },
   "source": [
    "## Diccionarios\n",
    "\n",
    "Es un arreglo de cosas que se asocian con un alias"
   ]
  },
  {
   "cell_type": "code",
   "execution_count": 52,
   "id": "dd93d5c5-c8da-4237-b108-cb2afa55d2f7",
   "metadata": {
    "tags": []
   },
   "outputs": [],
   "source": [
    "mi_dict = {}"
   ]
  },
  {
   "cell_type": "code",
   "execution_count": 53,
   "id": "df80c40b-a012-4a7f-8aed-70f1af76179c",
   "metadata": {
    "tags": []
   },
   "outputs": [],
   "source": [
    "mi_dict = dict()"
   ]
  },
  {
   "cell_type": "code",
   "execution_count": 55,
   "id": "1aee9d39-2190-48ab-b4fd-22830d89cb26",
   "metadata": {
    "tags": []
   },
   "outputs": [],
   "source": [
    "mi_dict['domicilio'] = \"rivadavia 34444\"\n",
    "mi_dict['piso'] = \"11 - A\"\n"
   ]
  },
  {
   "cell_type": "code",
   "execution_count": 56,
   "id": "7470d1e0-fc92-4d04-89da-9802607be9aa",
   "metadata": {
    "tags": []
   },
   "outputs": [
    {
     "data": {
      "text/plain": [
       "{'domicilio': 'rivadavia 34444', 'piso': '11 - A'}"
      ]
     },
     "execution_count": 56,
     "metadata": {},
     "output_type": "execute_result"
    }
   ],
   "source": [
    "mi_dict"
   ]
  },
  {
   "cell_type": "code",
   "execution_count": 57,
   "id": "edc8c09c-35de-445d-b94d-c6a7c8c1b3df",
   "metadata": {
    "tags": []
   },
   "outputs": [
    {
     "data": {
      "text/plain": [
       "dict_keys(['domicilio', 'piso'])"
      ]
     },
     "execution_count": 57,
     "metadata": {},
     "output_type": "execute_result"
    }
   ],
   "source": [
    "mi_dict.keys()"
   ]
  },
  {
   "cell_type": "code",
   "execution_count": 58,
   "id": "f327b3f5-b750-4f38-986e-5ffa522f24fe",
   "metadata": {
    "tags": []
   },
   "outputs": [
    {
     "data": {
      "text/plain": [
       "dict_values(['rivadavia 34444', '11 - A'])"
      ]
     },
     "execution_count": 58,
     "metadata": {},
     "output_type": "execute_result"
    }
   ],
   "source": [
    "mi_dict.values()"
   ]
  },
  {
   "cell_type": "code",
   "execution_count": 59,
   "id": "879247f8-5e13-49d2-ae91-f22daa88e17a",
   "metadata": {
    "tags": []
   },
   "outputs": [
    {
     "data": {
      "text/plain": [
       "['rivadavia 34444', '11 - A']"
      ]
     },
     "execution_count": 59,
     "metadata": {},
     "output_type": "execute_result"
    }
   ],
   "source": [
    "list(mi_dict.values())"
   ]
  },
  {
   "cell_type": "code",
   "execution_count": 60,
   "id": "2bbce524-02f5-43be-9f04-b7d2cc6b3227",
   "metadata": {
    "tags": []
   },
   "outputs": [
    {
     "data": {
      "text/plain": [
       "dict_items([('domicilio', 'rivadavia 34444'), ('piso', '11 - A')])"
      ]
     },
     "execution_count": 60,
     "metadata": {},
     "output_type": "execute_result"
    }
   ],
   "source": [
    "mi_dict.items()"
   ]
  },
  {
   "cell_type": "markdown",
   "id": "80b394ee-4561-4805-8471-815984226152",
   "metadata": {},
   "source": [
    "## for"
   ]
  },
  {
   "cell_type": "code",
   "execution_count": 61,
   "id": "d1dd345b-cfe1-42e2-ab1c-5345927ef9ed",
   "metadata": {
    "tags": []
   },
   "outputs": [
    {
     "name": "stdout",
     "output_type": "stream",
     "text": [
      "1\n",
      "2\n",
      "4\n",
      "4\n"
     ]
    }
   ],
   "source": [
    "for l in mi_lista:\n",
    "    print(l)"
   ]
  },
  {
   "cell_type": "code",
   "execution_count": 62,
   "id": "8b46f827-8f8d-401e-8a2d-9e38b2a4704f",
   "metadata": {
    "tags": []
   },
   "outputs": [
    {
     "name": "stdout",
     "output_type": "stream",
     "text": [
      "domicilio\n",
      "piso\n"
     ]
    }
   ],
   "source": [
    "for k in mi_dict.keys():\n",
    "    print(k)"
   ]
  },
  {
   "cell_type": "code",
   "execution_count": 63,
   "id": "863a97f0-ef75-49ac-9656-28b3f45305de",
   "metadata": {
    "tags": []
   },
   "outputs": [
    {
     "name": "stdout",
     "output_type": "stream",
     "text": [
      "rivadavia 34444\n",
      "11 - A\n"
     ]
    }
   ],
   "source": [
    "for v in mi_dict.values():\n",
    "    print(v)"
   ]
  },
  {
   "cell_type": "code",
   "execution_count": 78,
   "id": "4c771282-171d-48d5-aaef-5849a6dea6a4",
   "metadata": {
    "tags": []
   },
   "outputs": [],
   "source": [
    "dict_items = mi_dict.items()"
   ]
  },
  {
   "cell_type": "code",
   "execution_count": 77,
   "id": "c966cf13-0f02-469d-bc55-854af0d80b9d",
   "metadata": {
    "tags": []
   },
   "outputs": [
    {
     "ename": "NameError",
     "evalue": "name 'dict_items' is not defined",
     "output_type": "error",
     "traceback": [
      "\u001b[0;31m---------------------------------------------------------------------------\u001b[0m",
      "\u001b[0;31mNameError\u001b[0m                                 Traceback (most recent call last)",
      "\u001b[0;32m/var/folders/pz/y3j_kd0x7_l6mkwqj2x5_f0wvzrf5_/T/ipykernel_10595/2889878628.py\u001b[0m in \u001b[0;36m<module>\u001b[0;34m\u001b[0m\n\u001b[0;32m----> 1\u001b[0;31m \u001b[0;32mfor\u001b[0m \u001b[0mt\u001b[0m \u001b[0;32min\u001b[0m \u001b[0mdict_items\u001b[0m\u001b[0;34m:\u001b[0m\u001b[0;34m\u001b[0m\u001b[0;34m\u001b[0m\u001b[0m\n\u001b[0m\u001b[1;32m      2\u001b[0m     \u001b[0mprint\u001b[0m\u001b[0;34m(\u001b[0m\u001b[0;34m\"V: \"\u001b[0m\u001b[0;34m,\u001b[0m \u001b[0mt\u001b[0m\u001b[0;34m)\u001b[0m\u001b[0;34m\u001b[0m\u001b[0;34m\u001b[0m\u001b[0m\n",
      "\u001b[0;31mNameError\u001b[0m: name 'dict_items' is not defined"
     ]
    }
   ],
   "source": [
    "for t in dict_items:\n",
    "    print(\"V: \", t)"
   ]
  },
  {
   "cell_type": "code",
   "execution_count": 79,
   "id": "e557344c-d9c3-4110-afd4-ee2f47217572",
   "metadata": {
    "tags": []
   },
   "outputs": [
    {
     "name": "stdout",
     "output_type": "stream",
     "text": [
      "k domicilio  - v rivadavia 34444\n",
      "k piso  - v 11 - A\n"
     ]
    }
   ],
   "source": [
    "for k, v in dict_items:\n",
    "    print(\"k\", k, \" - v\", v)"
   ]
  },
  {
   "cell_type": "code",
   "execution_count": 80,
   "id": "18ce7366-374a-40d1-a157-8ac1b8ae761e",
   "metadata": {
    "tags": []
   },
   "outputs": [
    {
     "name": "stdout",
     "output_type": "stream",
     "text": [
      "k domicilio  - v rivadavia 34444\n",
      "k piso  - v 11 - A\n"
     ]
    }
   ],
   "source": [
    "for k, v in mi_dict.items():\n",
    "    print(\"k\", k, \" - v\", v)"
   ]
  },
  {
   "cell_type": "code",
   "execution_count": null,
   "id": "077eb1a0-db1b-4327-b0f6-7418a0d9f25b",
   "metadata": {},
   "outputs": [],
   "source": []
  },
  {
   "cell_type": "code",
   "execution_count": 81,
   "id": "29937443-07e6-47fb-b024-a24fa8f1cec5",
   "metadata": {
    "tags": []
   },
   "outputs": [
    {
     "name": "stdout",
     "output_type": "stream",
     "text": [
      "X: 0\n",
      "X: 1\n",
      "X: 2\n",
      "X: 3\n",
      "X: 4\n",
      "X: 5\n",
      "X: 6\n",
      "X: 7\n",
      "X: 8\n",
      "X: 9\n"
     ]
    }
   ],
   "source": [
    "for x in range(10):\n",
    "    print(\"X:\", x)"
   ]
  },
  {
   "cell_type": "code",
   "execution_count": 82,
   "id": "797ce8f0-0370-47f9-b985-26e3dfecf2cf",
   "metadata": {
    "tags": []
   },
   "outputs": [
    {
     "name": "stdout",
     "output_type": "stream",
     "text": [
      "X: 1\n",
      "X: 4\n",
      "X: 7\n"
     ]
    }
   ],
   "source": [
    "for x in range(1, 10, 3):\n",
    "    print(\"X:\", x)"
   ]
  },
  {
   "cell_type": "markdown",
   "id": "a779e00d-13c7-4847-866e-94d5a40e5d59",
   "metadata": {},
   "source": [
    "## list comprehension"
   ]
  },
  {
   "cell_type": "code",
   "execution_count": 85,
   "id": "33fb4c54-33b8-40aa-939e-646c18378937",
   "metadata": {
    "tags": []
   },
   "outputs": [
    {
     "data": {
      "text/plain": [
       "[0, 1, 2, 3, 4, 5, 6, 7, 8, 9, 10, 11, 12, 13, 14, 15, 16, 17, 18]"
      ]
     },
     "execution_count": 85,
     "metadata": {},
     "output_type": "execute_result"
    }
   ],
   "source": [
    "[x for x in range(19)]"
   ]
  },
  {
   "cell_type": "code",
   "execution_count": 86,
   "id": "2b05be67-06c4-4269-8522-60fd62af52a6",
   "metadata": {
    "tags": []
   },
   "outputs": [
    {
     "data": {
      "text/plain": [
       "[0, 2, 4, 6, 8, 10, 12, 14, 16, 18]"
      ]
     },
     "execution_count": 86,
     "metadata": {},
     "output_type": "execute_result"
    }
   ],
   "source": [
    "[x for x in range(19) if x/2 == int(x/2)]"
   ]
  },
  {
   "cell_type": "code",
   "execution_count": 87,
   "id": "4225da52-b4b4-4cbc-8fd2-ba471fc0f968",
   "metadata": {
    "tags": []
   },
   "outputs": [
    {
     "data": {
      "text/plain": [
       "{0: 10, 1: 11, 2: 12, 3: 13, 4: 14, 5: 15, 6: 16, 7: 17, 8: 18, 9: 19}"
      ]
     },
     "execution_count": 87,
     "metadata": {},
     "output_type": "execute_result"
    }
   ],
   "source": [
    "{k:v for k, v in enumerate(range(10,20,1))}"
   ]
  },
  {
   "cell_type": "markdown",
   "id": "a4f58f9e-140e-46ab-b462-63b88b9fb896",
   "metadata": {},
   "source": [
    "## NoneType"
   ]
  },
  {
   "cell_type": "code",
   "execution_count": 88,
   "id": "e413d7ae-d6fc-4ec5-980c-4c7843880709",
   "metadata": {
    "tags": []
   },
   "outputs": [],
   "source": [
    "None"
   ]
  },
  {
   "cell_type": "code",
   "execution_count": 3,
   "id": "e5a7ec76-a177-4ad3-967b-acbf8c84e399",
   "metadata": {
    "tags": []
   },
   "outputs": [
    {
     "data": {
      "text/plain": [
       "tuple"
      ]
     },
     "execution_count": 3,
     "metadata": {},
     "output_type": "execute_result"
    }
   ],
   "source": [
    "type(())"
   ]
  },
  {
   "cell_type": "markdown",
   "id": "4e06b204-304a-48da-a23c-366ce012c690",
   "metadata": {},
   "source": [
    "### Print y strings"
   ]
  },
  {
   "cell_type": "code",
   "execution_count": 5,
   "id": "98fe9a29-d55a-4216-a34e-840401dcb797",
   "metadata": {
    "tags": []
   },
   "outputs": [],
   "source": [
    "s = \"esto es una cadena, 'con comillas simples adentro'\""
   ]
  },
  {
   "cell_type": "code",
   "execution_count": 14,
   "id": "3660d901-9524-4482-8fd3-29f2b3bb6a1b",
   "metadata": {
    "tags": []
   },
   "outputs": [],
   "source": [
    "l = [1,2,3,4]"
   ]
  },
  {
   "cell_type": "code",
   "execution_count": 8,
   "id": "7d381ff0-3b97-43eb-8871-769ab6fd74b7",
   "metadata": {
    "tags": []
   },
   "outputs": [
    {
     "name": "stdout",
     "output_type": "stream",
     "text": [
      "[1, 2, 3, 4]\n"
     ]
    }
   ],
   "source": [
    "print([1,2,3,4])"
   ]
  },
  {
   "cell_type": "code",
   "execution_count": 9,
   "id": "dad4f07a-1e89-47f1-979d-46ccd8622fd3",
   "metadata": {
    "tags": []
   },
   "outputs": [
    {
     "name": "stdout",
     "output_type": "stream",
     "text": [
      "hola [1, 2, 3, 5]\n"
     ]
    }
   ],
   "source": [
    "print(\"hola\", [1,2,3,5])"
   ]
  },
  {
   "cell_type": "code",
   "execution_count": 11,
   "id": "81bbe35d-f66b-4ce2-945c-7a2f0046257f",
   "metadata": {
    "tags": []
   },
   "outputs": [
    {
     "name": "stdout",
     "output_type": "stream",
     "text": [
      "10.000000 12.000000\n"
     ]
    }
   ],
   "source": [
    "print(\"%f %f\"%(10,12))"
   ]
  },
  {
   "cell_type": "code",
   "execution_count": 12,
   "id": "ecab3719-fb0c-4dfc-8058-ec92bb572684",
   "metadata": {
    "tags": []
   },
   "outputs": [],
   "source": [
    "texto = \"texto embebido\""
   ]
  },
  {
   "cell_type": "code",
   "execution_count": 16,
   "id": "172737a7-b54c-4388-964f-5ca9a8610718",
   "metadata": {
    "tags": []
   },
   "outputs": [],
   "source": [
    "d = {'a':10, 'b':30}"
   ]
  },
  {
   "cell_type": "code",
   "execution_count": 17,
   "id": "7b1626fe-dff0-4477-a8d2-36c8440f7c85",
   "metadata": {
    "tags": []
   },
   "outputs": [
    {
     "name": "stdout",
     "output_type": "stream",
     "text": [
      "Hola, esto es una cadena con un texto desde una variable embebido texto embebido [1, 2, 3, 4] - {'a': 10, 'b': 30}\n"
     ]
    }
   ],
   "source": [
    "print(f\"Hola, esto es una cadena con un texto desde una variable embebido {texto} {l} - {d}\")"
   ]
  },
  {
   "cell_type": "code",
   "execution_count": null,
   "id": "e3bb503e-4d78-42ec-bd53-7a4c11aa5c23",
   "metadata": {},
   "outputs": [],
   "source": []
  },
  {
   "cell_type": "markdown",
   "id": "4c3b0097-d5a3-4687-87db-ef094924a475",
   "metadata": {},
   "source": [
    "## def"
   ]
  },
  {
   "cell_type": "code",
   "execution_count": 30,
   "id": "5d36f97b-9f60-409f-ab44-5a133cb84067",
   "metadata": {},
   "outputs": [],
   "source": [
    "def funct(n):\n",
    "    i = 4.0\n",
    "    print(type(i))\n",
    "    \n",
    "    i = 4\n",
    "    print(type(i))    \n",
    "    \n",
    "    i = 1_000\n",
    "    print(type(i))    \n",
    "    \n",
    "    i = 1e3\n",
    "    print(type(i))    \n",
    "    \n",
    "    return i"
   ]
  },
  {
   "cell_type": "code",
   "execution_count": 31,
   "id": "b72613ea-cfa9-4776-8596-610c59d6950d",
   "metadata": {
    "tags": []
   },
   "outputs": [
    {
     "name": "stdout",
     "output_type": "stream",
     "text": [
      "<class 'float'>\n",
      "<class 'int'>\n",
      "<class 'int'>\n",
      "<class 'float'>\n"
     ]
    },
    {
     "data": {
      "text/plain": [
       "1000.0"
      ]
     },
     "execution_count": 31,
     "metadata": {},
     "output_type": "execute_result"
    }
   ],
   "source": [
    "funct(2)"
   ]
  },
  {
   "cell_type": "code",
   "execution_count": null,
   "id": "03754452-b9a9-4969-960f-6112f69a0c2f",
   "metadata": {},
   "outputs": [],
   "source": []
  },
  {
   "cell_type": "code",
   "execution_count": null,
   "id": "07a6155b-2036-4b6d-8afc-e865e9976372",
   "metadata": {},
   "outputs": [],
   "source": []
  },
  {
   "cell_type": "code",
   "execution_count": 34,
   "id": "e6228219-2e17-4f2b-bc06-21f5d377a112",
   "metadata": {
    "tags": []
   },
   "outputs": [
    {
     "data": {
      "text/plain": [
       "[0, 1, 2, 3, 4, 5, 6, 7, 8, 9]"
      ]
     },
     "execution_count": 34,
     "metadata": {},
     "output_type": "execute_result"
    }
   ],
   "source": [
    "[x for x in range(10)]"
   ]
  },
  {
   "cell_type": "code",
   "execution_count": 32,
   "id": "8c8b3ee9-cb90-49ef-ad0f-1d9fc89314ce",
   "metadata": {
    "tags": []
   },
   "outputs": [
    {
     "name": "stdout",
     "output_type": "stream",
     "text": [
      "0\n",
      "1\n",
      "2\n",
      "3\n",
      "4\n",
      "5\n",
      "6\n",
      "7\n",
      "8\n",
      "9\n"
     ]
    }
   ],
   "source": [
    "for i in range(10):\n",
    "    print(i)"
   ]
  },
  {
   "cell_type": "code",
   "execution_count": 35,
   "id": "dfb1f9bb-c109-43bb-8286-3f808ee6328e",
   "metadata": {
    "tags": []
   },
   "outputs": [],
   "source": [
    "# 5! = 1*2*3*4*5 = 120\n",
    "\n",
    "def factorial(n):  \n",
    "    ret_val = 1\n",
    "    \n",
    "    # Condición\n",
    "    # for (j=1; j<=n; j++)\n",
    "    #    ret_val = ret_val * j\n",
    "    for j in range(n):\n",
    "        k = j + 1\n",
    "        ret_val = ret_val * k\n",
    "    \n",
    "    return ret_val"
   ]
  },
  {
   "cell_type": "code",
   "execution_count": 36,
   "id": "68719425-021e-4b8e-aa34-2cc38848728d",
   "metadata": {
    "tags": []
   },
   "outputs": [
    {
     "data": {
      "text/plain": [
       "120"
      ]
     },
     "execution_count": 36,
     "metadata": {},
     "output_type": "execute_result"
    }
   ],
   "source": [
    "factorial(5)"
   ]
  },
  {
   "cell_type": "code",
   "execution_count": 152,
   "id": "4cf4b93b-e75a-4c3e-af9b-cbf8913a55cb",
   "metadata": {
    "tags": []
   },
   "outputs": [],
   "source": [
    "def factorial(n):  \n",
    "    ret_val = 1\n",
    "    \n",
    "    # Condición\n",
    "    # for (j=1; j<=n; j++)\n",
    "    #    ret_val = ret_val * j\n",
    "    for k in range(1, n+1, 1):\n",
    "        ret_val = ret_val * k\n",
    "    \n",
    "    return ret_val"
   ]
  },
  {
   "cell_type": "code",
   "execution_count": 157,
   "id": "6f532406-05d8-434a-a604-ba1b54b519c0",
   "metadata": {
    "tags": []
   },
   "outputs": [
    {
     "data": {
      "text/plain": [
       "788657867364790503552363213932185062295135977687173263294742533244359449963403342920304284011984623904177212138919638830257642790242637105061926624952829931113462857270763317237396988943922445621451664240254033291864131227428294853277524242407573903240321257405579568660226031904170324062351700858796178922222789623703897374720000000000000000000000000000000000000000000000000"
      ]
     },
     "execution_count": 157,
     "metadata": {},
     "output_type": "execute_result"
    }
   ],
   "source": [
    "factorial(200)"
   ]
  },
  {
   "cell_type": "code",
   "execution_count": 150,
   "id": "faf52cac-ed8d-4f92-9cad-9d4ca2eb229b",
   "metadata": {
    "tags": []
   },
   "outputs": [],
   "source": [
    "def factorial(n:int, texto:str=None) -> tuple:  \n",
    "    ret_val = 1\n",
    "    \n",
    "    # Condición\n",
    "    # for (j=1; j<=n; j++)\n",
    "    #    ret_val = ret_val * j\n",
    "    for k in range(1, n+1, 1):\n",
    "        ret_val = ret_val * k\n",
    "    \n",
    "    if texto is not None:\n",
    "        print(f\"{texto} {ret_val}\")\n",
    "        # return ret_val\n",
    "    \n",
    "    return ret_val, n\n"
   ]
  },
  {
   "cell_type": "code",
   "execution_count": 64,
   "id": "36f09fff-3748-477f-8332-a18a91e05acc",
   "metadata": {
    "tags": []
   },
   "outputs": [
    {
     "name": "stdout",
     "output_type": "stream",
     "text": [
      "El factorial es 120\n"
     ]
    }
   ],
   "source": [
    "v = factorial(5, \"El factorial es\")"
   ]
  },
  {
   "cell_type": "code",
   "execution_count": 65,
   "id": "953ff06f-c47a-4a20-8bb2-033d5f714f27",
   "metadata": {
    "tags": []
   },
   "outputs": [
    {
     "data": {
      "text/plain": [
       "(120, 5)"
      ]
     },
     "execution_count": 65,
     "metadata": {},
     "output_type": "execute_result"
    }
   ],
   "source": [
    "v"
   ]
  },
  {
   "cell_type": "code",
   "execution_count": 53,
   "id": "610c0dca-47e8-47a5-aa82-10ad37df5559",
   "metadata": {
    "tags": []
   },
   "outputs": [
    {
     "data": {
      "text/plain": [
       "120"
      ]
     },
     "execution_count": 53,
     "metadata": {},
     "output_type": "execute_result"
    }
   ],
   "source": [
    "v[0]"
   ]
  },
  {
   "cell_type": "code",
   "execution_count": 54,
   "id": "3d0ea754-a5fd-4405-808e-b845cc7052c2",
   "metadata": {
    "tags": []
   },
   "outputs": [
    {
     "data": {
      "text/plain": [
       "5"
      ]
     },
     "execution_count": 54,
     "metadata": {},
     "output_type": "execute_result"
    }
   ],
   "source": [
    "v[1]"
   ]
  },
  {
   "cell_type": "code",
   "execution_count": null,
   "id": "0a3ae6b9-7d60-40bb-a4e7-cb2da6ee36e8",
   "metadata": {},
   "outputs": [],
   "source": []
  },
  {
   "cell_type": "markdown",
   "id": "096c64c5-4d92-4c3b-8e40-07efb0fd8af2",
   "metadata": {},
   "source": [
    "# Import"
   ]
  },
  {
   "cell_type": "code",
   "execution_count": 68,
   "id": "091a61fd-62f6-49ce-81c5-7dc68a291801",
   "metadata": {
    "tags": []
   },
   "outputs": [],
   "source": [
    "import numpy"
   ]
  },
  {
   "cell_type": "code",
   "execution_count": 84,
   "id": "769f1513-6ced-4472-ad65-08d3dc915296",
   "metadata": {
    "tags": []
   },
   "outputs": [],
   "source": [
    "import numpy as np"
   ]
  },
  {
   "cell_type": "code",
   "execution_count": 86,
   "id": "0d135142-0169-4fe2-81b2-22ea80f3bed1",
   "metadata": {
    "tags": []
   },
   "outputs": [
    {
     "data": {
      "text/plain": [
       "6"
      ]
     },
     "execution_count": 86,
     "metadata": {},
     "output_type": "execute_result"
    }
   ],
   "source": [
    "numpy.random.randint(10)"
   ]
  },
  {
   "cell_type": "code",
   "execution_count": 98,
   "id": "e33b97f4-e170-443f-b7a2-ba6fdae3e5a2",
   "metadata": {
    "tags": []
   },
   "outputs": [],
   "source": [
    "from numpy import random"
   ]
  },
  {
   "cell_type": "code",
   "execution_count": 93,
   "id": "1a563d73-794e-4727-a3ae-5e28cfd11779",
   "metadata": {
    "tags": []
   },
   "outputs": [
    {
     "data": {
      "text/plain": [
       "2"
      ]
     },
     "execution_count": 93,
     "metadata": {},
     "output_type": "execute_result"
    }
   ],
   "source": [
    "random.randint(10)"
   ]
  },
  {
   "cell_type": "code",
   "execution_count": 99,
   "id": "e8ec052d-82e7-447f-b273-a765926a5c48",
   "metadata": {
    "tags": []
   },
   "outputs": [
    {
     "data": {
      "text/plain": [
       "9"
      ]
     },
     "execution_count": 99,
     "metadata": {},
     "output_type": "execute_result"
    }
   ],
   "source": [
    "random.randint(1, 10)"
   ]
  },
  {
   "cell_type": "code",
   "execution_count": 100,
   "id": "62dc3fbe-d4ce-4b4c-9c1c-ba8a3484516e",
   "metadata": {
    "tags": []
   },
   "outputs": [],
   "source": [
    "import random"
   ]
  },
  {
   "cell_type": "code",
   "execution_count": 101,
   "id": "c91e6870-5673-4cf1-b1e3-57c084d05933",
   "metadata": {
    "tags": []
   },
   "outputs": [
    {
     "ename": "TypeError",
     "evalue": "randint() missing 1 required positional argument: 'b'",
     "output_type": "error",
     "traceback": [
      "\u001b[0;31m---------------------------------------------------------------------------\u001b[0m",
      "\u001b[0;31mTypeError\u001b[0m                                 Traceback (most recent call last)",
      "\u001b[0;32m/var/folders/pz/y3j_kd0x7_l6mkwqj2x5_f0wvzrf5_/T/ipykernel_50585/3463849988.py\u001b[0m in \u001b[0;36m<module>\u001b[0;34m\u001b[0m\n\u001b[0;32m----> 1\u001b[0;31m \u001b[0mrandom\u001b[0m\u001b[0;34m.\u001b[0m\u001b[0mrandint\u001b[0m\u001b[0;34m(\u001b[0m\u001b[0;36m1\u001b[0m\u001b[0;34m)\u001b[0m\u001b[0;34m\u001b[0m\u001b[0;34m\u001b[0m\u001b[0m\n\u001b[0m",
      "\u001b[0;31mTypeError\u001b[0m: randint() missing 1 required positional argument: 'b'"
     ]
    }
   ],
   "source": [
    "random.randint(1)"
   ]
  },
  {
   "cell_type": "code",
   "execution_count": 102,
   "id": "f90ac95b-1b72-4855-9d07-9eefcbad06ad",
   "metadata": {
    "tags": []
   },
   "outputs": [
    {
     "data": {
      "text/plain": [
       "3"
      ]
     },
     "execution_count": 102,
     "metadata": {},
     "output_type": "execute_result"
    }
   ],
   "source": [
    "random.randint(1, 10)"
   ]
  },
  {
   "cell_type": "code",
   "execution_count": 87,
   "id": "7184f631-fb63-4e91-9b9d-3467251e414f",
   "metadata": {
    "tags": []
   },
   "outputs": [
    {
     "data": {
      "text/plain": [
       "1"
      ]
     },
     "execution_count": 87,
     "metadata": {},
     "output_type": "execute_result"
    }
   ],
   "source": [
    "np.random.randint(10)"
   ]
  },
  {
   "cell_type": "markdown",
   "id": "6599e9e8-4f97-492b-a180-c3951253950a",
   "metadata": {
    "tags": []
   },
   "source": [
    "# Clases"
   ]
  },
  {
   "cell_type": "code",
   "execution_count": 128,
   "id": "e956110f-5ce2-4e46-b21d-9e247918f08f",
   "metadata": {
    "tags": []
   },
   "outputs": [],
   "source": [
    "class GeneraNumeros:\n",
    "    \"\"\"\n",
    "    Esta clase genera números aleatorios y permite guardarlos como atributos del objeto\n",
    "    \"\"\"\n",
    "    def __init__(self, min_num = 0, max_num = 100):\n",
    "        self.numbers_generated = []\n",
    "        self.min_num = min_num\n",
    "        self.max_num = max_num\n",
    "        \n",
    "    def gen_number(self):\n",
    "        last_num = np.random.randint(self.min_num, self.max_num)\n",
    "        print(f\"Generated: {last_num}\")\n",
    "        self.numbers_generated.append(last_num)\n",
    "        \n",
    "    def gen_numbers(self, qty:int = 10):\n",
    "        pass\n",
    "        \n",
    "    def clean_numbers(self):\n",
    "        self.numbers_generated = []\n",
    "        \n",
    "    def get_generated_numbers(self):\n",
    "        return self.numbers_generated"
   ]
  },
  {
   "cell_type": "code",
   "execution_count": 104,
   "id": "a16de18f-bdcb-432c-af63-42a053f00b27",
   "metadata": {
    "tags": []
   },
   "outputs": [],
   "source": [
    "generator = GeneraNumeros"
   ]
  },
  {
   "cell_type": "code",
   "execution_count": 139,
   "id": "a0a318a3-2fec-4d7b-9c5f-b13b51853051",
   "metadata": {
    "tags": []
   },
   "outputs": [],
   "source": [
    "generator = GeneraNumeros(10, 20)"
   ]
  },
  {
   "cell_type": "code",
   "execution_count": 140,
   "id": "a83cfffa-e25a-48c4-ad0d-cb1073e5e39c",
   "metadata": {
    "tags": []
   },
   "outputs": [
    {
     "name": "stdout",
     "output_type": "stream",
     "text": [
      "Generated: 15\n"
     ]
    }
   ],
   "source": [
    "generator.gen_number()"
   ]
  },
  {
   "cell_type": "code",
   "execution_count": 141,
   "id": "87b38377-c806-4547-81a4-02271f724027",
   "metadata": {
    "tags": []
   },
   "outputs": [
    {
     "name": "stdout",
     "output_type": "stream",
     "text": [
      "Generated: 14\n"
     ]
    }
   ],
   "source": [
    "generator.gen_number()"
   ]
  },
  {
   "cell_type": "code",
   "execution_count": 142,
   "id": "e695e889-8902-40db-8e8e-412f48a0789d",
   "metadata": {
    "tags": []
   },
   "outputs": [
    {
     "name": "stdout",
     "output_type": "stream",
     "text": [
      "Generated: 11\n"
     ]
    }
   ],
   "source": [
    "generator.gen_number()"
   ]
  },
  {
   "cell_type": "code",
   "execution_count": 143,
   "id": "532c1910-6ed2-447c-88b0-f4d9ee92cc69",
   "metadata": {
    "tags": []
   },
   "outputs": [
    {
     "name": "stdout",
     "output_type": "stream",
     "text": [
      "Generated: 19\n"
     ]
    }
   ],
   "source": [
    "generator.gen_number()"
   ]
  },
  {
   "cell_type": "code",
   "execution_count": 144,
   "id": "36092d7e-d612-4efd-813a-2067bac2f731",
   "metadata": {
    "tags": []
   },
   "outputs": [
    {
     "data": {
      "text/plain": [
       "[15, 14, 11, 19]"
      ]
     },
     "execution_count": 144,
     "metadata": {},
     "output_type": "execute_result"
    }
   ],
   "source": [
    "g = generator.get_generated_numbers()\n",
    "g"
   ]
  },
  {
   "cell_type": "code",
   "execution_count": 145,
   "id": "68288e40-7578-4ec8-ae01-f837f2758293",
   "metadata": {
    "tags": []
   },
   "outputs": [],
   "source": [
    "generator.clean_numbers()"
   ]
  },
  {
   "cell_type": "code",
   "execution_count": 146,
   "id": "39856666-a6d8-44ef-9f92-34f1ffa35a7c",
   "metadata": {
    "tags": []
   },
   "outputs": [
    {
     "data": {
      "text/plain": [
       "[]"
      ]
     },
     "execution_count": 146,
     "metadata": {},
     "output_type": "execute_result"
    }
   ],
   "source": [
    "generator.get_generated_numbers()"
   ]
  },
  {
   "cell_type": "code",
   "execution_count": 117,
   "id": "664a0254-2447-41eb-8135-8f169fd2b822",
   "metadata": {
    "tags": []
   },
   "outputs": [
    {
     "name": "stdout",
     "output_type": "stream",
     "text": [
      "[11, 19, 19, 15]\n"
     ]
    }
   ],
   "source": [
    "g\n",
    "print(g)"
   ]
  },
  {
   "cell_type": "code",
   "execution_count": 123,
   "id": "fc0bed65-6777-4e5e-ba9c-e4cc32387d0b",
   "metadata": {
    "tags": []
   },
   "outputs": [
    {
     "name": "stdout",
     "output_type": "stream",
     "text": [
      "[11, 19, 19, 15]\n",
      "\n",
      "\n",
      "\n"
     ]
    }
   ],
   "source": [
    "g\n",
    "print(g)\n",
    "g\n",
    "print()\n",
    "g\n",
    "print()\n",
    "print()"
   ]
  },
  {
   "cell_type": "code",
   "execution_count": 125,
   "id": "8397a48f-da4e-4c9d-8271-4d207cb58898",
   "metadata": {
    "tags": []
   },
   "outputs": [],
   "source": [
    "g.remove(11)"
   ]
  },
  {
   "cell_type": "code",
   "execution_count": 127,
   "id": "14b262bf-9a8d-436f-83a6-080e7a3b531d",
   "metadata": {
    "tags": []
   },
   "outputs": [
    {
     "ename": "ValueError",
     "evalue": "list.remove(x): x not in list",
     "output_type": "error",
     "traceback": [
      "\u001b[0;31m---------------------------------------------------------------------------\u001b[0m",
      "\u001b[0;31mValueError\u001b[0m                                Traceback (most recent call last)",
      "\u001b[0;32m/var/folders/pz/y3j_kd0x7_l6mkwqj2x5_f0wvzrf5_/T/ipykernel_50585/1840751955.py\u001b[0m in \u001b[0;36m<module>\u001b[0;34m\u001b[0m\n\u001b[0;32m----> 1\u001b[0;31m \u001b[0mg\u001b[0m\u001b[0;34m.\u001b[0m\u001b[0mremove\u001b[0m\u001b[0;34m(\u001b[0m\u001b[0;36m11\u001b[0m\u001b[0;34m)\u001b[0m\u001b[0;34m\u001b[0m\u001b[0;34m\u001b[0m\u001b[0m\n\u001b[0m",
      "\u001b[0;31mValueError\u001b[0m: list.remove(x): x not in list"
     ]
    }
   ],
   "source": [
    "g.remove(11)"
   ]
  },
  {
   "cell_type": "code",
   "execution_count": 149,
   "id": "48e2c95f-4735-4137-9dc1-296c49dafcbd",
   "metadata": {
    "tags": []
   },
   "outputs": [
    {
     "data": {
      "text/plain": [
       "['numbers_generated',\n",
       " 'min_num',\n",
       " 'max_num',\n",
       " '__module__',\n",
       " '__doc__',\n",
       " '__init__',\n",
       " 'gen_number',\n",
       " 'gen_numbers',\n",
       " 'clean_numbers',\n",
       " 'get_generated_numbers',\n",
       " '__dict__',\n",
       " '__weakref__',\n",
       " '__repr__',\n",
       " '__hash__',\n",
       " '__str__',\n",
       " '__getattribute__',\n",
       " '__setattr__',\n",
       " '__delattr__',\n",
       " '__lt__',\n",
       " '__le__',\n",
       " '__eq__',\n",
       " '__ne__',\n",
       " '__gt__',\n",
       " '__ge__',\n",
       " '__new__',\n",
       " '__reduce_ex__',\n",
       " '__reduce__',\n",
       " '__subclasshook__',\n",
       " '__init_subclass__',\n",
       " '__format__',\n",
       " '__sizeof__',\n",
       " '__dir__',\n",
       " '__class__']"
      ]
     },
     "execution_count": 149,
     "metadata": {},
     "output_type": "execute_result"
    }
   ],
   "source": [
    "generator.__dir__()"
   ]
  },
  {
   "cell_type": "code",
   "execution_count": null,
   "id": "4310b243-630e-4605-a017-ff0cd86f5f2c",
   "metadata": {},
   "outputs": [],
   "source": []
  }
 ],
 "metadata": {
  "kernelspec": {
   "display_name": "Python 3 (ipykernel)",
   "language": "python",
   "name": "python3"
  },
  "language_info": {
   "codemirror_mode": {
    "name": "ipython",
    "version": 3
   },
   "file_extension": ".py",
   "mimetype": "text/x-python",
   "name": "python",
   "nbconvert_exporter": "python",
   "pygments_lexer": "ipython3",
   "version": "3.11.5"
  }
 },
 "nbformat": 4,
 "nbformat_minor": 5
}
